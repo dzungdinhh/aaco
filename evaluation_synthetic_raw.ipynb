{
 "cells": [
  {
   "cell_type": "code",
   "execution_count": 1,
   "metadata": {},
   "outputs": [
    {
     "name": "stderr",
     "output_type": "stream",
     "text": [
      "2024-12-22 17:05:07.232789: E external/local_xla/xla/stream_executor/cuda/cuda_fft.cc:485] Unable to register cuFFT factory: Attempting to register factory for plugin cuFFT when one has already been registered\n",
      "2024-12-22 17:05:07.578992: E external/local_xla/xla/stream_executor/cuda/cuda_dnn.cc:8454] Unable to register cuDNN factory: Attempting to register factory for plugin cuDNN when one has already been registered\n",
      "2024-12-22 17:05:07.669278: E external/local_xla/xla/stream_executor/cuda/cuda_blas.cc:1452] Unable to register cuBLAS factory: Attempting to register factory for plugin cuBLAS when one has already been registered\n",
      "2024-12-22 17:05:08.185166: I tensorflow/core/platform/cpu_feature_guard.cc:210] This TensorFlow binary is optimized to use available CPU instructions in performance-critical operations.\n",
      "To enable the following instructions: AVX2 AVX512F FMA, in other operations, rebuild TensorFlow with the appropriate compiler flags.\n",
      "2024-12-22 17:05:12.625317: W tensorflow/compiler/tf2tensorrt/utils/py_utils.cc:38] TF-TRT Warning: Could not find TensorRT\n"
     ]
    }
   ],
   "source": [
    "import tensorflow as tf\n",
    "import numpy as np\n",
    "%matplotlib inline\n",
    "import matplotlib.pyplot as plt\n",
    "import pickle\n",
    "import time\n",
    "from xgboost import XGBClassifier\n",
    "from xgboost import XGBRegressor\n",
    "import sys\n",
    "sys.path.append('/work/users/d/d/ddinh/aaco/src')\n",
    "from load_dataset import load_adni_data\n",
    "from sklearn.metrics import roc_auc_score, average_precision_score, precision_recall_curve\n",
    "import tensorflow as tf\n"
   ]
  },
  {
   "cell_type": "markdown",
   "metadata": {},
   "source": [
    "## Data"
   ]
  },
  {
   "cell_type": "code",
   "execution_count": 2,
   "metadata": {},
   "outputs": [],
   "source": [
    "X_train_digits = np.load('/work/users/d/d/ddinh/aaco/input_data/Synthetic_raw/train_digits.npy')\n",
    "X_train_counter = np.load('/work/users/d/d/ddinh/aaco/input_data/Synthetic_raw/train_counter.npy')\n",
    "y_train = np.load('/work/users/d/d/ddinh/aaco/input_data/Synthetic_raw/train_labels.npy')\n",
    "X_test_digits = np.load('/work/users/d/d/ddinh/aaco/input_data/Synthetic_raw/test_digits.npy')\n",
    "X_test_counter = np.load('/work/users/d/d/ddinh/aaco/input_data/Synthetic_raw/test_counter.npy')\n",
    "y_test = np.load('/work/users/d/d/ddinh/aaco/input_data/Synthetic_raw/test_labels.npy')\n",
    "\n",
    "y_train = np.eye(np.max(y_train) + 1)[y_train]\n",
    "y_test = np.eye(np.max(y_test) + 1)[y_test]\n",
    "\n",
    "X_train = np.concatenate([X_train_digits, X_train_counter], axis=1)\n",
    "X_test = np.concatenate([X_test_digits, X_test_counter], axis=1)\n",
    "\n",
    "num_ts = 10\n",
    "Xval = X_test\n",
    "Yval = y_test"
   ]
  },
  {
   "cell_type": "code",
   "execution_count": 28,
   "metadata": {},
   "outputs": [],
   "source": [
    "# load pt file \n",
    "import torch \n",
    "# path = '/work/users/d/d/ddinh/aaco/results/dataset_adnimlp_imputation_exclude_nan_mask_less_features.pt'\n",
    "path = '/work/users/d/d/ddinh/aaco/results/dataset_synthetic_raw_xgb_0.025.pt'\n",
    "data = torch.load(path)\n",
    "x = data['X']\n",
    "y = data['y']\n",
    "mask = data['mask']\n",
    "action = data['Action']"
   ]
  },
  {
   "cell_type": "code",
   "execution_count": 29,
   "metadata": {},
   "outputs": [],
   "source": [
    "merge_action = []\n",
    "count = 0\n",
    "for i in range(action.shape[0]):\n",
    "    if action[i, 0] == 1:\n",
    "        merge_action.append(action[i])\n",
    "        count += 1\n",
    "    else:\n",
    "        merge_action[count - 1] += action[i]\n",
    "merge_action = np.array(merge_action)\n",
    "merge_action = merge_action[:,:-1]"
   ]
  },
  {
   "cell_type": "code",
   "execution_count": 30,
   "metadata": {},
   "outputs": [],
   "source": [
    "import tensorflow as tf\n",
    "# model = tf.keras.models.load_model('/work/users/d/d/ddinh/aaco/models/mlp.keras')\n",
    "model = XGBClassifier()\n",
    "model.load_model('/work/users/d/d/ddinh/aaco/models/synthetic_raw.model')"
   ]
  },
  {
   "cell_type": "code",
   "execution_count": 31,
   "metadata": {},
   "outputs": [
    {
     "data": {
      "text/plain": [
       "(10000, 20)"
      ]
     },
     "execution_count": 31,
     "metadata": {},
     "output_type": "execute_result"
    }
   ],
   "source": [
    "merge_action.shape"
   ]
  },
  {
   "cell_type": "code",
   "execution_count": 32,
   "metadata": {},
   "outputs": [],
   "source": [
    "# d = 24\n",
    "# B = np.concatenate(\n",
    "# [np.sum(np.random.permutation(np.eye(d))[:, :np.random.randint(6)], 1, keepdims=True) for _ in range(merge_action.shape[0])],\n",
    "# 1)\n",
    "# B = np.float32(B.T)\n",
    "# # B = np.expand_dims(B, axis=-1)\n",
    "\n",
    "# merge_action = B\n",
    "# np.sum(merge_action, 1).mean()\n",
    "# merge_action = np.ones_like(merge_action)"
   ]
  },
  {
   "cell_type": "code",
   "execution_count": 33,
   "metadata": {},
   "outputs": [
    {
     "name": "stdout",
     "output_type": "stream",
     "text": [
      "0.9446909090909091\n"
     ]
    }
   ],
   "source": [
    "Xvalmasked = np.concatenate((Xval*merge_action, merge_action), 1)\n",
    "val_preds = model.predict_proba(Xvalmasked) \n",
    "print(np.mean(np.round(val_preds)==Yval))"
   ]
  },
  {
   "cell_type": "code",
   "execution_count": 34,
   "metadata": {},
   "outputs": [
    {
     "data": {
      "text/plain": [
       "(0.5192100048065186, 0.44354000091552737)"
      ]
     },
     "execution_count": 34,
     "metadata": {},
     "output_type": "execute_result"
    }
   ],
   "source": [
    "np.sum(merge_action[:,:10], 1).mean() / 10, np.sum(merge_action[:,10:], 1).mean() / 10"
   ]
  },
  {
   "cell_type": "code",
   "execution_count": 35,
   "metadata": {},
   "outputs": [],
   "source": [
    "# 0.9863058630586305"
   ]
  },
  {
   "cell_type": "code",
   "execution_count": null,
   "metadata": {},
   "outputs": [],
   "source": []
  }
 ],
 "metadata": {
  "kernelspec": {
   "display_name": ".venv",
   "language": "python",
   "name": "python3"
  },
  "language_info": {
   "codemirror_mode": {
    "name": "ipython",
    "version": 3
   },
   "file_extension": ".py",
   "mimetype": "text/x-python",
   "name": "python",
   "nbconvert_exporter": "python",
   "pygments_lexer": "ipython3",
   "version": "3.6.8"
  }
 },
 "nbformat": 4,
 "nbformat_minor": 2
}
