{
 "cells": [
  {
   "cell_type": "markdown",
   "metadata": {},
   "source": [
    "# Paper"
   ]
  },
  {
   "cell_type": "code",
   "execution_count": 3,
   "metadata": {},
   "outputs": [
    {
     "name": "stderr",
     "output_type": "stream",
     "text": [
      "2024-11-13 23:10:20.778796: W tensorflow/compiler/tf2tensorrt/utils/py_utils.cc:38] TF-TRT Warning: Could not find TensorRT\n",
      "/work/users/d/d/ddinh/.venv/lib64/python3.11/site-packages/tqdm/auto.py:21: TqdmWarning: IProgress not found. Please update jupyter and ipywidgets. See https://ipywidgets.readthedocs.io/en/stable/user_install.html\n",
      "  from .autonotebook import tqdm as notebook_tqdm\n"
     ]
    }
   ],
   "source": [
    "import tensorflow as tf\n",
    "import numpy as np\n",
    "%matplotlib inline\n",
    "import matplotlib.pyplot as plt\n",
    "import pickle\n",
    "import time\n",
    "from xgboost import XGBClassifier\n",
    "from xgboost import XGBRegressor\n",
    "import sys\n",
    "sys.path.append('/work/users/d/d/ddinh/aaco/src')\n",
    "from load_dataset import load_adni_data\n",
    "from cvar_sensing.utils import prepare_time_series, batch_interp_nd\n",
    "import torch"
   ]
  },
  {
   "cell_type": "code",
   "execution_count": 4,
   "metadata": {},
   "outputs": [],
   "source": [
    "def load_data(file_path):\n",
    "    ds = load_adni_data(file_path=file_path)\n",
    "    x = ds.x\n",
    "    y = ds.y\n",
    "    mask_nan = np.isnan(x)\n",
    "    x[mask_nan] = 0\n",
    "    \n",
    "    mask_nan_y = np.isnan(y)\n",
    "    y[mask_nan_y] = 0\n",
    "    return x, y\n",
    "\n",
    "train_x, train_y = load_data(\"/work/users/d/d/ddinh/aaco/input_data/train_data.npz\")\n",
    "val_x, val_y = load_data(\"/work/users/d/d/ddinh/aaco/input_data/val_data.npz\")\n",
    "test_x, test_y = load_data(\"/work/users/d/d/ddinh/aaco/input_data/test_data.npz\")\n",
    "\n",
    "num_ts = train_x.shape[1]"
   ]
  },
  {
   "cell_type": "code",
   "execution_count": 5,
   "metadata": {},
   "outputs": [],
   "source": [
    "from cvar_sensing.encoders import prepare_input, obtain_interpolator\n",
    "from cvar_sensing.utils import prepare_time_series\n",
    "from cvar_sensing.utils.interpolation import fillna_nd"
   ]
  },
  {
   "cell_type": "code",
   "execution_count": null,
   "metadata": {},
   "outputs": [],
   "source": [
    "test_sample = np.copy(train_x[:1])\n",
    "test_sample[:,2:,:] = np.nan\n",
    "test_sample_ts = prepare_input(torch.Tensor([range(0,num_ts)] * 1), torch.Tensor(test_sample))"
   ]
  },
  {
   "cell_type": "code",
   "execution_count": null,
   "metadata": {},
   "outputs": [
    {
     "data": {
      "text/plain": [
       "(tensor([[ 0.0000,  1.1000,  2.2000,  3.3000,  4.4000,  5.5000,  6.6000,  7.7000,\n",
       "           8.8000,  9.9000, 11.0000, 12.0000]]),\n",
       " tensor([[[ 0.9463, -0.5812,  0.3210,  0.5514],\n",
       "          [ 0.7560, -0.5812,  0.4868,  1.3533],\n",
       "          [ 0.7560, -0.5812,  0.4868,  1.3533],\n",
       "          [ 0.7560, -0.5812,  0.4868,  1.3533],\n",
       "          [ 0.7560, -0.5812,  0.4868,  1.3533],\n",
       "          [ 0.7560, -0.5812,  0.4868,  1.3533],\n",
       "          [ 0.7560, -0.5812,  0.4868,  1.3533],\n",
       "          [ 0.7560, -0.5812,  0.4868,  1.3533],\n",
       "          [ 0.7560, -0.5812,  0.4868,  1.3533],\n",
       "          [ 0.7560, -0.5812,  0.4868,  1.3533],\n",
       "          [ 0.7560, -0.5812,  0.4868,  1.3533],\n",
       "          [ 0.7560, -0.5812,  0.4868,  1.3533]]]))"
      ]
     },
     "execution_count": 17,
     "metadata": {},
     "output_type": "execute_result"
    }
   ],
   "source": [
    "test_sample_ts"
   ]
  },
  {
   "cell_type": "code",
   "execution_count": 18,
   "metadata": {},
   "outputs": [
    {
     "data": {
      "text/plain": [
       "array([[ 0.946343  , -0.58122814,  0.32096717,  0.55139863],\n",
       "       [ 0.75595796, -0.58122814,  0.48678538,  1.353316  ],\n",
       "       [ 0.39508277, -0.58122814,  0.06086014,  0.9956877 ],\n",
       "       [ 0.24957375, -0.58122814,  0.41200462,  0.4879288 ],\n",
       "       [ 0.7209328 , -0.58122814,  0.42013296,  0.19132923],\n",
       "       [ 0.13966939, -0.58122814, -0.06269069, -0.0686531 ],\n",
       "       [-0.3207443 , -0.58122814,  0.02428259,  0.6319566 ],\n",
       "       [ 0.        ,  0.        ,  0.        ,  0.        ],\n",
       "       [ 0.        ,  0.        ,  0.        ,  0.        ],\n",
       "       [ 0.        ,  0.        ,  0.        ,  0.        ],\n",
       "       [ 0.        ,  0.        ,  0.        ,  0.        ],\n",
       "       [ 0.        ,  0.        ,  0.        ,  0.        ]],\n",
       "      dtype=float32)"
      ]
     },
     "execution_count": 18,
     "metadata": {},
     "output_type": "execute_result"
    }
   ],
   "source": [
    "train_x[0]"
   ]
  },
  {
   "cell_type": "code",
   "execution_count": 6,
   "metadata": {},
   "outputs": [],
   "source": [
    "def get_ts(x, y): \n",
    "    x_data = np.copy(x)\n",
    "    y_data = np.copy(y)\n",
    "    x_ts = []\n",
    "    y_ts = []\n",
    "    masks = []\n",
    "    \n",
    "    for i in range(num_ts):\n",
    "        x_zero = np.zeros(x_data.shape)\n",
    "        x_zero[:, :i+1] = x_data[:, :i+1,:]\n",
    "        \n",
    "        x_filtered = np.transpose(x_zero, (0, 2, 1)).reshape(-1, x_data.shape[1] * x_data.shape[2])\n",
    "        \n",
    "        # zero_mask = np.zeros(x_zero[non_zero_mask,:,:].shape)\n",
    "        # zero_mask[:,:i+1] = 1\n",
    "        # zero_mask = np.transpose(zero_mask, (0, 2, 1)).reshape(-1, x_data.shape[1] * x_data.shape[2])\n",
    "        \n",
    "        # x_filtered = np.concatenate([x_filtered, zero_mask], axis=1)\n",
    "        x_filtered = np.concatenate([x_filtered, np.repeat(i, x_filtered.shape[0])[:, None]], axis=1)\n",
    "        \n",
    "        x_ts.append(x_filtered)\n",
    "        y_ts.append(y_data[:, i, :])\n",
    "        \n",
    "    x_ts = np.concatenate(x_ts, axis=0)\n",
    "    y_ts = np.concatenate(y_ts, axis=0)\n",
    "    \n",
    "    return x_ts, y_ts"
   ]
  },
  {
   "cell_type": "code",
   "execution_count": 7,
   "metadata": {},
   "outputs": [
    {
     "data": {
      "text/plain": [
       "((7704, 49), (7704, 3))"
      ]
     },
     "execution_count": 7,
     "metadata": {},
     "output_type": "execute_result"
    }
   ],
   "source": [
    "train_x_ts, train_y_ts = get_ts(train_x, train_y)\n",
    "val_x_ts, val_y_ts = get_ts(val_x, val_y)\n",
    "test_x_ts, test_y_ts = get_ts(test_x, test_y)\n",
    "\n",
    "# concatenate train and val\n",
    "# train_x_ts = np.concatenate([train_x_ts, val_x_ts], axis=0)\n",
    "# train_y_ts = np.concatenate([train_y_ts, val_y_ts], axis=0)\n",
    "\n",
    "train_x_ts.shape, train_y_ts.shape\n",
    "# ((7704, 49), (7704, 3))"
   ]
  },
  {
   "cell_type": "code",
   "execution_count": 42,
   "metadata": {},
   "outputs": [
    {
     "data": {
      "text/plain": [
       "array([ 0.946343  ,  0.946343  ,  0.946343  ,  0.946343  ,  0.946343  ,\n",
       "        0.946343  ,  0.946343  ,  0.946343  ,  0.946343  ,  0.946343  ,\n",
       "        0.946343  ,  0.946343  , -0.58122814, -0.58122814, -0.58122814,\n",
       "       -0.58122814, -0.58122814, -0.58122814, -0.58122814, -0.58122814,\n",
       "       -0.58122814, -0.58122814, -0.58122814, -0.58122814,  0.32096717,\n",
       "        0.32096717,  0.32096717,  0.32096717,  0.32096717,  0.32096717,\n",
       "        0.32096717,  0.32096717,  0.32096717,  0.32096717,  0.32096717,\n",
       "        0.32096717,  0.55139863,  0.55139863,  0.55139863,  0.55139863,\n",
       "        0.55139863,  0.55139863,  0.55139863,  0.55139863,  0.55139863,\n",
       "        0.55139863,  0.55139863,  0.55139863,  0.        ])"
      ]
     },
     "execution_count": 42,
     "metadata": {},
     "output_type": "execute_result"
    }
   ],
   "source": [
    "train_x_ts[0]"
   ]
  },
  {
   "cell_type": "code",
   "execution_count": 8,
   "metadata": {},
   "outputs": [
    {
     "data": {
      "text/plain": [
       "((1834117, 49), (1834117, 3), (1834117, 48))"
      ]
     },
     "execution_count": 8,
     "metadata": {},
     "output_type": "execute_result"
    }
   ],
   "source": [
    "masksper = 256 \n",
    "d = train_x_ts.shape[1] - 1\n",
    "X_class = np.concatenate([train_x_ts]*masksper, 0)\n",
    "Y_class = np.concatenate([train_y_ts]*masksper, 0)\n",
    "B = np.concatenate(\n",
    "[np.sum(np.random.permutation(np.eye(d))[:, :np.random.randint(d)], 1, keepdims=True) for _ in range(X_class.shape[0])],\n",
    "1)\n",
    "B = np.float32(B.T)\n",
    "\n",
    "zero_mask = X_class[:,:d] == 0\n",
    "B[zero_mask] = 0\n",
    "\n",
    "# remove 0 mask\n",
    "mask_nonzero = np.sum(B, axis=1) != 0\n",
    "B = B[mask_nonzero]\n",
    "X_class = X_class[mask_nonzero]\n",
    "Y_class = Y_class[mask_nonzero]\n",
    "\n",
    "X_class[:,:d] = X_class[:,:d] * B\n",
    "X_class.shape, Y_class.shape, B.shape"
   ]
  },
  {
   "cell_type": "code",
   "execution_count": 12,
   "metadata": {},
   "outputs": [],
   "source": [
    "location = X_class[:,-1]\n",
    "X_class = X_class[:,:-1]"
   ]
  },
  {
   "cell_type": "code",
   "execution_count": 24,
   "metadata": {},
   "outputs": [],
   "source": [
    "X_class = np.transpose(X_class.reshape(-1, train_x.shape[2], train_x.shape[1]), (0, 2, 1))\n",
    "mask_0 = X_class == 0\n",
    "X_class[mask_0] = np.nan\n",
    "X_class = prepare_input(torch.Tensor([range(0,num_ts)] * X_class.shape[0]), torch.Tensor(X_class))[1].numpy()\n",
    "X_class = np.transpose(X_class, (0, 2, 1)).reshape(-1, train_x.shape[1] * train_x.shape[2])"
   ]
  },
  {
   "cell_type": "code",
   "execution_count": 27,
   "metadata": {},
   "outputs": [],
   "source": [
    "X_class = np.concatenate([X_class, location[:, None]], axis=1)"
   ]
  },
  {
   "cell_type": "code",
   "execution_count": null,
   "metadata": {},
   "outputs": [],
   "source": [
    "# x_zero[:, i+1:] = np.nan\n",
    "# x_zero = prepare_input(torch.Tensor([range(0,num_ts)] * x_zero.shape[0]), torch.Tensor(x_zero))[1].numpy()"
   ]
  },
  {
   "cell_type": "code",
   "execution_count": 9,
   "metadata": {},
   "outputs": [
    {
     "data": {
      "text/plain": [
       "((8962, 49), (8962, 3), (8962, 49))"
      ]
     },
     "execution_count": 9,
     "metadata": {},
     "output_type": "execute_result"
    }
   ],
   "source": [
    "masksper = 5\n",
    "d = val_x_ts.shape[1]\n",
    "X_class_val = np.concatenate([val_x_ts]*masksper, 0)\n",
    "Y_class_val = np.concatenate([val_y_ts]*masksper, 0)\n",
    "B_val = np.concatenate(\n",
    "[np.sum(np.random.permutation(np.eye(d))[:, :np.random.randint(d)], 1, keepdims=True) for _ in range(X_class_val.shape[0])],\n",
    "1)\n",
    "B_val = np.float32(B_val.T)\n",
    "\n",
    "# B_val = np.ones_like(B_val)\n",
    "\n",
    "zero_mask_val = X_class_val[:,:d] == 0\n",
    "B_val[zero_mask_val] = 0\n",
    "\n",
    "# remove 0 mask\n",
    "mask_nonzero_val = np.sum(B_val, axis=1) != 0\n",
    "B_val = B_val[mask_nonzero_val]\n",
    "X_class_val = X_class_val[mask_nonzero_val]\n",
    "Y_class_val = Y_class_val[mask_nonzero_val]\n",
    "\n",
    "X_class_val[:,:d] = X_class_val[:,:d] * B_val\n",
    "X_class_val.shape, Y_class_val.shape, B_val.shape"
   ]
  },
  {
   "cell_type": "code",
   "execution_count": 26,
   "metadata": {},
   "outputs": [
    {
     "data": {
      "text/plain": [
       "(160, 12, 4)"
      ]
     },
     "execution_count": 26,
     "metadata": {},
     "output_type": "execute_result"
    }
   ],
   "source": [
    "val_x.shape"
   ]
  },
  {
   "cell_type": "code",
   "execution_count": 29,
   "metadata": {},
   "outputs": [],
   "source": [
    "location_val = X_class_val[:,-1]\n",
    "X_class_val = X_class_val[:,:-1]"
   ]
  },
  {
   "cell_type": "code",
   "execution_count": 31,
   "metadata": {},
   "outputs": [],
   "source": [
    "X_class_val = np.transpose(X_class_val.reshape(-1, val_x.shape[2], val_x.shape[1]), (0, 2, 1))\n",
    "mask_0_val = X_class_val == 0\n",
    "X_class_val[mask_0_val] = np.nan\n",
    "X_class_val = prepare_input(torch.Tensor([range(0,num_ts)] * X_class_val.shape[0]), torch.Tensor(X_class_val))[1].numpy()"
   ]
  },
  {
   "cell_type": "code",
   "execution_count": 32,
   "metadata": {},
   "outputs": [],
   "source": [
    "X_class_val = np.transpose(X_class_val, (0, 2, 1)).reshape(-1, val_x.shape[1] * val_x.shape[2])\n",
    "X_class_val = np.concatenate([X_class_val, location_val[:, None]], axis=1)"
   ]
  },
  {
   "cell_type": "code",
   "execution_count": 33,
   "metadata": {},
   "outputs": [
    {
     "name": "stdout",
     "output_type": "stream",
     "text": [
      "Epoch 1/100\n",
      "\u001b[1m57265/57317\u001b[0m \u001b[32m━━━━━━━━━━━━━━━━━━━\u001b[0m\u001b[37m━\u001b[0m \u001b[1m0s\u001b[0m 538us/step - accuracy: 0.3560 - loss: 58.0800 - prc: 0.2640 - roc_auc: 0.6052\n",
      "Epoch 1: val_roc_auc improved from -inf to 0.64062, saving model to /work/users/d/d/ddinh/aaco/models/mlp_interpolation.keras\n",
      "\u001b[1m57317/57317\u001b[0m \u001b[32m━━━━━━━━━━━━━━━━━━━━\u001b[0m\u001b[37m\u001b[0m \u001b[1m32s\u001b[0m 546us/step - accuracy: 0.3560 - loss: 58.1760 - prc: 0.2640 - roc_auc: 0.6052 - val_accuracy: 0.3448 - val_loss: 391.5270 - val_prc: 0.3050 - val_roc_auc: 0.6406\n",
      "Epoch 2/100\n",
      "\u001b[1m57269/57317\u001b[0m \u001b[32m━━━━━━━━━━━━━━━━━━━\u001b[0m\u001b[37m━\u001b[0m \u001b[1m0s\u001b[0m 544us/step - accuracy: 0.3468 - loss: 773.4655 - prc: 0.2492 - roc_auc: 0.5739\n",
      "Epoch 2: val_roc_auc improved from 0.64062 to 0.64553, saving model to /work/users/d/d/ddinh/aaco/models/mlp_interpolation.keras\n",
      "\u001b[1m57317/57317\u001b[0m \u001b[32m━━━━━━━━━━━━━━━━━━━━\u001b[0m\u001b[37m\u001b[0m \u001b[1m31s\u001b[0m 547us/step - accuracy: 0.3468 - loss: 773.7755 - prc: 0.2492 - roc_auc: 0.5739 - val_accuracy: 0.3511 - val_loss: 3607.0703 - val_prc: 0.3090 - val_roc_auc: 0.6455\n",
      "Epoch 3/100\n",
      "\u001b[1m57299/57317\u001b[0m \u001b[32m━━━━━━━━━━━━━━━━━━━\u001b[0m\u001b[37m━\u001b[0m \u001b[1m0s\u001b[0m 510us/step - accuracy: 0.3395 - loss: 2614.5283 - prc: 0.2435 - roc_auc: 0.5653\n",
      "Epoch 3: val_roc_auc did not improve from 0.64553\n",
      "\u001b[1m57317/57317\u001b[0m \u001b[32m━━━━━━━━━━━━━━━━━━━━\u001b[0m\u001b[37m\u001b[0m \u001b[1m29s\u001b[0m 513us/step - accuracy: 0.3395 - loss: 2614.7542 - prc: 0.2435 - roc_auc: 0.5653 - val_accuracy: 0.1781 - val_loss: 5643.9526 - val_prc: 0.1895 - val_roc_auc: 0.4669\n",
      "Epoch 4/100\n",
      "\u001b[1m57310/57317\u001b[0m \u001b[32m━━━━━━━━━━━━━━━━━━━\u001b[0m\u001b[37m━\u001b[0m \u001b[1m0s\u001b[0m 524us/step - accuracy: 0.3372 - loss: 5704.0947 - prc: 0.2407 - roc_auc: 0.5621\n",
      "Epoch 4: val_roc_auc did not improve from 0.64553\n",
      "\u001b[1m57317/57317\u001b[0m \u001b[32m━━━━━━━━━━━━━━━━━━━━\u001b[0m\u001b[37m\u001b[0m \u001b[1m30s\u001b[0m 528us/step - accuracy: 0.3372 - loss: 5704.2212 - prc: 0.2407 - roc_auc: 0.5621 - val_accuracy: 0.4580 - val_loss: 5878.6885 - val_prc: 0.1897 - val_roc_auc: 0.4682\n",
      "Epoch 5/100\n",
      "\u001b[1m57313/57317\u001b[0m \u001b[32m━━━━━━━━━━━━━━━━━━━\u001b[0m\u001b[37m━\u001b[0m \u001b[1m0s\u001b[0m 520us/step - accuracy: 0.3368 - loss: 9806.1875 - prc: 0.2400 - roc_auc: 0.5634\n",
      "Epoch 5: val_roc_auc did not improve from 0.64553\n",
      "\u001b[1m57317/57317\u001b[0m \u001b[32m━━━━━━━━━━━━━━━━━━━━\u001b[0m\u001b[37m\u001b[0m \u001b[1m30s\u001b[0m 523us/step - accuracy: 0.3368 - loss: 9806.3037 - prc: 0.2400 - roc_auc: 0.5634 - val_accuracy: 0.1781 - val_loss: 30243.1484 - val_prc: 0.1942 - val_roc_auc: 0.4873\n",
      "Epoch 6/100\n",
      "\u001b[1m57271/57317\u001b[0m \u001b[32m━━━━━━━━━━━━━━━━━━━\u001b[0m\u001b[37m━\u001b[0m \u001b[1m0s\u001b[0m 528us/step - accuracy: 0.3376 - loss: 15205.1299 - prc: 0.2389 - roc_auc: 0.5629\n",
      "Epoch 6: val_roc_auc did not improve from 0.64553\n",
      "\u001b[1m57317/57317\u001b[0m \u001b[32m━━━━━━━━━━━━━━━━━━━━\u001b[0m\u001b[37m\u001b[0m \u001b[1m31s\u001b[0m 531us/step - accuracy: 0.3376 - loss: 15206.5166 - prc: 0.2389 - roc_auc: 0.5629 - val_accuracy: 0.1942 - val_loss: 2981.6975 - val_prc: 0.1976 - val_roc_auc: 0.4982\n",
      "Epoch 7/100\n",
      "\u001b[1m57249/57317\u001b[0m \u001b[32m━━━━━━━━━━━━━━━━━━━\u001b[0m\u001b[37m━\u001b[0m \u001b[1m0s\u001b[0m 527us/step - accuracy: 0.3377 - loss: 22193.8477 - prc: 0.2375 - roc_auc: 0.5608\n",
      "Epoch 7: val_roc_auc did not improve from 0.64553\n",
      "\u001b[1m57317/57317\u001b[0m \u001b[32m━━━━━━━━━━━━━━━━━━━━\u001b[0m\u001b[37m\u001b[0m \u001b[1m30s\u001b[0m 529us/step - accuracy: 0.3377 - loss: 22195.8555 - prc: 0.2375 - roc_auc: 0.5608 - val_accuracy: 0.4203 - val_loss: 62586.7734 - val_prc: 0.1856 - val_roc_auc: 0.4697\n",
      "Epoch 8/100\n",
      "\u001b[1m57278/57317\u001b[0m \u001b[32m━━━━━━━━━━━━━━━━━━━\u001b[0m\u001b[37m━\u001b[0m \u001b[1m0s\u001b[0m 531us/step - accuracy: 0.3372 - loss: 29758.7402 - prc: 0.2362 - roc_auc: 0.5591\n",
      "Epoch 8: val_roc_auc did not improve from 0.64553\n",
      "\u001b[1m57317/57317\u001b[0m \u001b[32m━━━━━━━━━━━━━━━━━━━━\u001b[0m\u001b[37m\u001b[0m \u001b[1m31s\u001b[0m 534us/step - accuracy: 0.3372 - loss: 29760.1582 - prc: 0.2362 - roc_auc: 0.5591 - val_accuracy: 0.4737 - val_loss: 96628.5469 - val_prc: 0.1816 - val_roc_auc: 0.4609\n",
      "Epoch 9/100\n",
      "\u001b[1m57299/57317\u001b[0m \u001b[32m━━━━━━━━━━━━━━━━━━━\u001b[0m\u001b[37m━\u001b[0m \u001b[1m0s\u001b[0m 538us/step - accuracy: 0.3374 - loss: 38630.0664 - prc: 0.2349 - roc_auc: 0.5573\n",
      "Epoch 9: val_roc_auc did not improve from 0.64553\n",
      "\u001b[1m57317/57317\u001b[0m \u001b[32m━━━━━━━━━━━━━━━━━━━━\u001b[0m\u001b[37m\u001b[0m \u001b[1m31s\u001b[0m 541us/step - accuracy: 0.3374 - loss: 38630.7695 - prc: 0.2349 - roc_auc: 0.5573 - val_accuracy: 0.1781 - val_loss: 51537.8516 - val_prc: 0.1950 - val_roc_auc: 0.4910\n",
      "Epoch 10/100\n",
      "\u001b[1m57268/57317\u001b[0m \u001b[32m━━━━━━━━━━━━━━━━━━━\u001b[0m\u001b[37m━\u001b[0m \u001b[1m0s\u001b[0m 530us/step - accuracy: 0.3394 - loss: 47298.0664 - prc: 0.2352 - roc_auc: 0.5584\n",
      "Epoch 10: val_roc_auc did not improve from 0.64553\n",
      "\u001b[1m57317/57317\u001b[0m \u001b[32m━━━━━━━━━━━━━━━━━━━━\u001b[0m\u001b[37m\u001b[0m \u001b[1m31s\u001b[0m 533us/step - accuracy: 0.3394 - loss: 47300.4766 - prc: 0.2352 - roc_auc: 0.5584 - val_accuracy: 0.2200 - val_loss: 4806.7183 - val_prc: 0.1955 - val_roc_auc: 0.4922\n",
      "Epoch 11/100\n",
      "\u001b[1m57312/57317\u001b[0m \u001b[32m━━━━━━━━━━━━━━━━━━━\u001b[0m\u001b[37m━\u001b[0m \u001b[1m0s\u001b[0m 521us/step - accuracy: 0.3401 - loss: 58774.0703 - prc: 0.2346 - roc_auc: 0.5581\n",
      "Epoch 11: val_roc_auc improved from 0.64553 to 0.66266, saving model to /work/users/d/d/ddinh/aaco/models/mlp_interpolation.keras\n",
      "\u001b[1m57317/57317\u001b[0m \u001b[32m━━━━━━━━━━━━━━━━━━━━\u001b[0m\u001b[37m\u001b[0m \u001b[1m30s\u001b[0m 524us/step - accuracy: 0.3401 - loss: 58774.3359 - prc: 0.2346 - roc_auc: 0.5581 - val_accuracy: 0.3511 - val_loss: 61704.5781 - val_prc: 0.3129 - val_roc_auc: 0.6627\n",
      "Epoch 12/100\n",
      "\u001b[1m57305/57317\u001b[0m \u001b[32m━━━━━━━━━━━━━━━━━━━\u001b[0m\u001b[37m━\u001b[0m \u001b[1m0s\u001b[0m 526us/step - accuracy: 0.3408 - loss: 67950.4531 - prc: 0.2349 - roc_auc: 0.5589\n",
      "Epoch 12: val_roc_auc did not improve from 0.66266\n",
      "\u001b[1m57317/57317\u001b[0m \u001b[32m━━━━━━━━━━━━━━━━━━━━\u001b[0m\u001b[37m\u001b[0m \u001b[1m30s\u001b[0m 529us/step - accuracy: 0.3408 - loss: 67951.3438 - prc: 0.2349 - roc_auc: 0.5589 - val_accuracy: 0.4586 - val_loss: 70792.5156 - val_prc: 0.1955 - val_roc_auc: 0.4932\n",
      "Epoch 13/100\n",
      "\u001b[1m57251/57317\u001b[0m \u001b[32m━━━━━━━━━━━━━━━━━━━\u001b[0m\u001b[37m━\u001b[0m \u001b[1m0s\u001b[0m 540us/step - accuracy: 0.3422 - loss: 81343.8359 - prc: 0.2345 - roc_auc: 0.5590\n",
      "Epoch 13: val_roc_auc improved from 0.66266 to 0.66304, saving model to /work/users/d/d/ddinh/aaco/models/mlp_interpolation.keras\n",
      "\u001b[1m57317/57317\u001b[0m \u001b[32m━━━━━━━━━━━━━━━━━━━━\u001b[0m\u001b[37m\u001b[0m \u001b[1m31s\u001b[0m 544us/step - accuracy: 0.3422 - loss: 81346.9453 - prc: 0.2345 - roc_auc: 0.5590 - val_accuracy: 0.3511 - val_loss: 26860.3594 - val_prc: 0.3129 - val_roc_auc: 0.6630\n",
      "Epoch 14/100\n",
      "\u001b[1m57222/57317\u001b[0m \u001b[32m━━━━━━━━━━━━━━━━━━━\u001b[0m\u001b[37m━\u001b[0m \u001b[1m0s\u001b[0m 518us/step - accuracy: 0.3427 - loss: 94348.3750 - prc: 0.2350 - roc_auc: 0.5599\n",
      "Epoch 14: val_roc_auc improved from 0.66304 to 0.66321, saving model to /work/users/d/d/ddinh/aaco/models/mlp_interpolation.keras\n",
      "\u001b[1m57317/57317\u001b[0m \u001b[32m━━━━━━━━━━━━━━━━━━━━\u001b[0m\u001b[37m\u001b[0m \u001b[1m30s\u001b[0m 521us/step - accuracy: 0.3427 - loss: 94355.0234 - prc: 0.2350 - roc_auc: 0.5599 - val_accuracy: 0.3511 - val_loss: 40202.3398 - val_prc: 0.3130 - val_roc_auc: 0.6632\n",
      "Epoch 15/100\n",
      "\u001b[1m57280/57317\u001b[0m \u001b[32m━━━━━━━━━━━━━━━━━━━\u001b[0m\u001b[37m━\u001b[0m \u001b[1m0s\u001b[0m 510us/step - accuracy: 0.3425 - loss: 112123.0781 - prc: 0.2341 - roc_auc: 0.5589\n",
      "Epoch 15: val_roc_auc did not improve from 0.66321\n",
      "\u001b[1m57317/57317\u001b[0m \u001b[32m━━━━━━━━━━━━━━━━━━━━\u001b[0m\u001b[37m\u001b[0m \u001b[1m29s\u001b[0m 513us/step - accuracy: 0.3425 - loss: 112126.3047 - prc: 0.2341 - roc_auc: 0.5589 - val_accuracy: 0.3511 - val_loss: 199800.2969 - val_prc: 0.3128 - val_roc_auc: 0.6632\n",
      "Epoch 16/100\n",
      "\u001b[1m57258/57317\u001b[0m \u001b[32m━━━━━━━━━━━━━━━━━━━\u001b[0m\u001b[37m━\u001b[0m \u001b[1m0s\u001b[0m 515us/step - accuracy: 0.3433 - loss: 125742.7266 - prc: 0.2341 - roc_auc: 0.5591\n",
      "Epoch 16: val_roc_auc improved from 0.66321 to 0.66362, saving model to /work/users/d/d/ddinh/aaco/models/mlp_interpolation.keras\n",
      "\u001b[1m57317/57317\u001b[0m \u001b[32m━━━━━━━━━━━━━━━━━━━━\u001b[0m\u001b[37m\u001b[0m \u001b[1m30s\u001b[0m 519us/step - accuracy: 0.3433 - loss: 125744.4453 - prc: 0.2341 - roc_auc: 0.5591 - val_accuracy: 0.3511 - val_loss: 154111.5625 - val_prc: 0.3131 - val_roc_auc: 0.6636\n",
      "Epoch 17/100\n",
      "\u001b[1m57260/57317\u001b[0m \u001b[32m━━━━━━━━━━━━━━━━━━━\u001b[0m\u001b[37m━\u001b[0m \u001b[1m0s\u001b[0m 528us/step - accuracy: 0.3441 - loss: 137239.5312 - prc: 0.2344 - roc_auc: 0.5602\n",
      "Epoch 17: val_roc_auc did not improve from 0.66362\n",
      "\u001b[1m57317/57317\u001b[0m \u001b[32m━━━━━━━━━━━━━━━━━━━━\u001b[0m\u001b[37m\u001b[0m \u001b[1m31s\u001b[0m 531us/step - accuracy: 0.3441 - loss: 137243.1562 - prc: 0.2344 - roc_auc: 0.5602 - val_accuracy: 0.4198 - val_loss: 209473.0000 - val_prc: 0.1844 - val_roc_auc: 0.4662\n",
      "Epoch 18/100\n",
      "\u001b[1m57267/57317\u001b[0m \u001b[32m━━━━━━━━━━━━━━━━━━━\u001b[0m\u001b[37m━\u001b[0m \u001b[1m0s\u001b[0m 522us/step - accuracy: 0.3437 - loss: 159674.2031 - prc: 0.2340 - roc_auc: 0.5593\n",
      "Epoch 18: val_roc_auc did not improve from 0.66362\n",
      "\u001b[1m57317/57317\u001b[0m \u001b[32m━━━━━━━━━━━━━━━━━━━━\u001b[0m\u001b[37m\u001b[0m \u001b[1m30s\u001b[0m 525us/step - accuracy: 0.3437 - loss: 159675.9062 - prc: 0.2340 - roc_auc: 0.5593 - val_accuracy: 0.3582 - val_loss: 19568.7891 - val_prc: 0.2830 - val_roc_auc: 0.6285\n",
      "Epoch 19/100\n",
      "\u001b[1m57270/57317\u001b[0m \u001b[32m━━━━━━━━━━━━━━━━━━━\u001b[0m\u001b[37m━\u001b[0m \u001b[1m0s\u001b[0m 529us/step - accuracy: 0.3451 - loss: 175681.6562 - prc: 0.2347 - roc_auc: 0.5608\n",
      "Epoch 19: val_roc_auc did not improve from 0.66362\n",
      "\u001b[1m57317/57317\u001b[0m \u001b[32m━━━━━━━━━━━━━━━━━━━━\u001b[0m\u001b[37m\u001b[0m \u001b[1m31s\u001b[0m 532us/step - accuracy: 0.3451 - loss: 175684.5156 - prc: 0.2347 - roc_auc: 0.5608 - val_accuracy: 0.3511 - val_loss: 147334.8281 - val_prc: 0.3127 - val_roc_auc: 0.6632\n",
      "Epoch 20/100\n",
      "\u001b[1m57228/57317\u001b[0m \u001b[32m━━━━━━━━━━━━━━━━━━━\u001b[0m\u001b[37m━\u001b[0m \u001b[1m0s\u001b[0m 544us/step - accuracy: 0.3450 - loss: 192159.0156 - prc: 0.2343 - roc_auc: 0.5601\n",
      "Epoch 20: val_roc_auc did not improve from 0.66362\n",
      "\u001b[1m57317/57317\u001b[0m \u001b[32m━━━━━━━━━━━━━━━━━━━━\u001b[0m\u001b[37m\u001b[0m \u001b[1m31s\u001b[0m 546us/step - accuracy: 0.3450 - loss: 192164.5469 - prc: 0.2343 - roc_auc: 0.5601 - val_accuracy: 0.4435 - val_loss: 176072.7500 - val_prc: 0.2649 - val_roc_auc: 0.5909\n",
      "Epoch 21/100\n",
      "\u001b[1m57306/57317\u001b[0m \u001b[32m━━━━━━━━━━━━━━━━━━━\u001b[0m\u001b[37m━\u001b[0m \u001b[1m0s\u001b[0m 520us/step - accuracy: 0.3458 - loss: 206812.2969 - prc: 0.2349 - roc_auc: 0.5611\n",
      "Epoch 21: val_roc_auc did not improve from 0.66362\n",
      "\u001b[1m57317/57317\u001b[0m \u001b[32m━━━━━━━━━━━━━━━━━━━━\u001b[0m\u001b[37m\u001b[0m \u001b[1m30s\u001b[0m 523us/step - accuracy: 0.3458 - loss: 206813.4062 - prc: 0.2349 - roc_auc: 0.5611 - val_accuracy: 0.3511 - val_loss: 398790.3125 - val_prc: 0.3088 - val_roc_auc: 0.6451\n",
      "Epoch 22/100\n",
      "\u001b[1m57252/57317\u001b[0m \u001b[32m━━━━━━━━━━━━━━━━━━━\u001b[0m\u001b[37m━\u001b[0m \u001b[1m0s\u001b[0m 530us/step - accuracy: 0.3473 - loss: 223745.0625 - prc: 0.2356 - roc_auc: 0.5620\n",
      "Epoch 22: val_roc_auc did not improve from 0.66362\n",
      "\u001b[1m57317/57317\u001b[0m \u001b[32m━━━━━━━━━━━━━━━━━━━━\u001b[0m\u001b[37m\u001b[0m \u001b[1m31s\u001b[0m 533us/step - accuracy: 0.3473 - loss: 223752.3906 - prc: 0.2356 - roc_auc: 0.5620 - val_accuracy: 0.1781 - val_loss: 565817.2500 - val_prc: 0.1925 - val_roc_auc: 0.4699\n",
      "Epoch 23/100\n",
      "\u001b[1m57256/57317\u001b[0m \u001b[32m━━━━━━━━━━━━━━━━━━━\u001b[0m\u001b[37m━\u001b[0m \u001b[1m0s\u001b[0m 527us/step - accuracy: 0.3477 - loss: 250086.1094 - prc: 0.2355 - roc_auc: 0.5615\n",
      "Epoch 23: val_roc_auc did not improve from 0.66362\n",
      "\u001b[1m57317/57317\u001b[0m \u001b[32m━━━━━━━━━━━━━━━━━━━━\u001b[0m\u001b[37m\u001b[0m \u001b[1m30s\u001b[0m 530us/step - accuracy: 0.3477 - loss: 250088.9844 - prc: 0.2355 - roc_auc: 0.5615 - val_accuracy: 0.4612 - val_loss: 141177.4062 - val_prc: 0.2225 - val_roc_auc: 0.5539\n",
      "Epoch 24/100\n",
      "\u001b[1m57278/57317\u001b[0m \u001b[32m━━━━━━━━━━━━━━━━━━━\u001b[0m\u001b[37m━\u001b[0m \u001b[1m0s\u001b[0m 538us/step - accuracy: 0.3484 - loss: 256348.2500 - prc: 0.2359 - roc_auc: 0.5628\n",
      "Epoch 24: val_roc_auc did not improve from 0.66362\n",
      "\u001b[1m57317/57317\u001b[0m \u001b[32m━━━━━━━━━━━━━━━━━━━━\u001b[0m\u001b[37m\u001b[0m \u001b[1m31s\u001b[0m 541us/step - accuracy: 0.3484 - loss: 256355.1094 - prc: 0.2359 - roc_auc: 0.5628 - val_accuracy: 0.1781 - val_loss: 1161346.6250 - val_prc: 0.1925 - val_roc_auc: 0.4699\n",
      "Epoch 25/100\n",
      "\u001b[1m57275/57317\u001b[0m \u001b[32m━━━━━━━━━━━━━━━━━━━\u001b[0m\u001b[37m━\u001b[0m \u001b[1m0s\u001b[0m 537us/step - accuracy: 0.3491 - loss: 279676.9375 - prc: 0.2365 - roc_auc: 0.5630\n",
      "Epoch 25: val_roc_auc improved from 0.66362 to 0.66424, saving model to /work/users/d/d/ddinh/aaco/models/mlp_interpolation.keras\n",
      "\u001b[1m57317/57317\u001b[0m \u001b[32m━━━━━━━━━━━━━━━━━━━━\u001b[0m\u001b[37m\u001b[0m \u001b[1m31s\u001b[0m 541us/step - accuracy: 0.3491 - loss: 279679.9062 - prc: 0.2365 - roc_auc: 0.5630 - val_accuracy: 0.3511 - val_loss: 317371.3750 - val_prc: 0.3135 - val_roc_auc: 0.6642\n",
      "Epoch 26/100\n",
      "\u001b[1m57238/57317\u001b[0m \u001b[32m━━━━━━━━━━━━━━━━━━━\u001b[0m\u001b[37m━\u001b[0m \u001b[1m0s\u001b[0m 536us/step - accuracy: 0.3492 - loss: 311269.0625 - prc: 0.2363 - roc_auc: 0.5631\n",
      "Epoch 26: val_roc_auc did not improve from 0.66424\n",
      "\u001b[1m57317/57317\u001b[0m \u001b[32m━━━━━━━━━━━━━━━━━━━━\u001b[0m\u001b[37m\u001b[0m \u001b[1m31s\u001b[0m 538us/step - accuracy: 0.3492 - loss: 311268.3750 - prc: 0.2363 - roc_auc: 0.5631 - val_accuracy: 0.4278 - val_loss: 165812.2344 - val_prc: 0.1837 - val_roc_auc: 0.4668\n",
      "Epoch 27/100\n",
      "\u001b[1m57224/57317\u001b[0m \u001b[32m━━━━━━━━━━━━━━━━━━━\u001b[0m\u001b[37m━\u001b[0m \u001b[1m0s\u001b[0m 539us/step - accuracy: 0.3493 - loss: 330438.7188 - prc: 0.2363 - roc_auc: 0.5630\n",
      "Epoch 27: val_roc_auc did not improve from 0.66424\n",
      "\u001b[1m57317/57317\u001b[0m \u001b[32m━━━━━━━━━━━━━━━━━━━━\u001b[0m\u001b[37m\u001b[0m \u001b[1m31s\u001b[0m 542us/step - accuracy: 0.3493 - loss: 330442.6875 - prc: 0.2363 - roc_auc: 0.5630 - val_accuracy: 0.3511 - val_loss: 599116.5000 - val_prc: 0.3088 - val_roc_auc: 0.6451\n",
      "Epoch 28/100\n",
      "\u001b[1m57255/57317\u001b[0m \u001b[32m━━━━━━━━━━━━━━━━━━━\u001b[0m\u001b[37m━\u001b[0m \u001b[1m0s\u001b[0m 522us/step - accuracy: 0.3506 - loss: 344360.6562 - prc: 0.2367 - roc_auc: 0.5638\n",
      "Epoch 28: val_roc_auc improved from 0.66424 to 0.66439, saving model to /work/users/d/d/ddinh/aaco/models/mlp_interpolation.keras\n",
      "\u001b[1m57317/57317\u001b[0m \u001b[32m━━━━━━━━━━━━━━━━━━━━\u001b[0m\u001b[37m\u001b[0m \u001b[1m30s\u001b[0m 525us/step - accuracy: 0.3506 - loss: 344369.3750 - prc: 0.2367 - roc_auc: 0.5638 - val_accuracy: 0.3511 - val_loss: 291198.3438 - val_prc: 0.3136 - val_roc_auc: 0.6644\n",
      "Epoch 29/100\n",
      "\u001b[1m57233/57317\u001b[0m \u001b[32m━━━━━━━━━━━━━━━━━━━\u001b[0m\u001b[37m━\u001b[0m \u001b[1m0s\u001b[0m 540us/step - accuracy: 0.3513 - loss: 359873.6250 - prc: 0.2368 - roc_auc: 0.5638\n",
      "Epoch 29: val_roc_auc did not improve from 0.66439\n",
      "\u001b[1m57317/57317\u001b[0m \u001b[32m━━━━━━━━━━━━━━━━━━━━\u001b[0m\u001b[37m\u001b[0m \u001b[1m31s\u001b[0m 543us/step - accuracy: 0.3513 - loss: 359890.4375 - prc: 0.2368 - roc_auc: 0.5638 - val_accuracy: 0.4299 - val_loss: 359199.1875 - val_prc: 0.1836 - val_roc_auc: 0.4671\n",
      "Epoch 30/100\n",
      "\u001b[1m57310/57317\u001b[0m \u001b[32m━━━━━━━━━━━━━━━━━━━\u001b[0m\u001b[37m━\u001b[0m \u001b[1m0s\u001b[0m 543us/step - accuracy: 0.3509 - loss: 388852.6250 - prc: 0.2367 - roc_auc: 0.5642\n",
      "Epoch 30: val_roc_auc did not improve from 0.66439\n",
      "\u001b[1m57317/57317\u001b[0m \u001b[32m━━━━━━━━━━━━━━━━━━━━\u001b[0m\u001b[37m\u001b[0m \u001b[1m31s\u001b[0m 546us/step - accuracy: 0.3509 - loss: 388854.6562 - prc: 0.2367 - roc_auc: 0.5642 - val_accuracy: 0.4301 - val_loss: 425897.3750 - val_prc: 0.1833 - val_roc_auc: 0.4664\n",
      "Epoch 31/100\n",
      "\u001b[1m57306/57317\u001b[0m \u001b[32m━━━━━━━━━━━━━━━━━━━\u001b[0m\u001b[37m━\u001b[0m \u001b[1m0s\u001b[0m 550us/step - accuracy: 0.3515 - loss: 424276.4688 - prc: 0.2371 - roc_auc: 0.5642\n",
      "Epoch 31: val_roc_auc did not improve from 0.66439\n",
      "\u001b[1m57317/57317\u001b[0m \u001b[32m━━━━━━━━━━━━━━━━━━━━\u001b[0m\u001b[37m\u001b[0m \u001b[1m32s\u001b[0m 553us/step - accuracy: 0.3515 - loss: 424278.2500 - prc: 0.2371 - roc_auc: 0.5642 - val_accuracy: 0.4336 - val_loss: 126957.5625 - val_prc: 0.2820 - val_roc_auc: 0.6271\n",
      "Epoch 32/100\n",
      "\u001b[1m57288/57317\u001b[0m \u001b[32m━━━━━━━━━━━━━━━━━━━\u001b[0m\u001b[37m━\u001b[0m \u001b[1m0s\u001b[0m 543us/step - accuracy: 0.3514 - loss: 454454.6250 - prc: 0.2370 - roc_auc: 0.5640\n",
      "Epoch 32: val_roc_auc did not improve from 0.66439\n",
      "\u001b[1m57317/57317\u001b[0m \u001b[32m━━━━━━━━━━━━━━━━━━━━\u001b[0m\u001b[37m\u001b[0m \u001b[1m31s\u001b[0m 546us/step - accuracy: 0.3514 - loss: 454458.1562 - prc: 0.2370 - roc_auc: 0.5640 - val_accuracy: 0.2206 - val_loss: 406262.5312 - val_prc: 0.2031 - val_roc_auc: 0.5173\n",
      "Epoch 33/100\n",
      "\u001b[1m57287/57317\u001b[0m \u001b[32m━━━━━━━━━━━━━━━━━━━\u001b[0m\u001b[37m━\u001b[0m \u001b[1m0s\u001b[0m 551us/step - accuracy: 0.3518 - loss: 464342.1562 - prc: 0.2372 - roc_auc: 0.5637\n",
      "Epoch 33: val_roc_auc did not improve from 0.66439\n",
      "\u001b[1m57317/57317\u001b[0m \u001b[32m━━━━━━━━━━━━━━━━━━━━\u001b[0m\u001b[37m\u001b[0m \u001b[1m32s\u001b[0m 554us/step - accuracy: 0.3518 - loss: 464351.1875 - prc: 0.2372 - roc_auc: 0.5637 - val_accuracy: 0.2800 - val_loss: 101023.6094 - val_prc: 0.2125 - val_roc_auc: 0.5358\n",
      "Epoch 34/100\n",
      "\u001b[1m57306/57317\u001b[0m \u001b[32m━━━━━━━━━━━━━━━━━━━\u001b[0m\u001b[37m━\u001b[0m \u001b[1m0s\u001b[0m 552us/step - accuracy: 0.3540 - loss: 490330.7188 - prc: 0.2381 - roc_auc: 0.5655\n",
      "Epoch 34: val_roc_auc improved from 0.66439 to 0.66523, saving model to /work/users/d/d/ddinh/aaco/models/mlp_interpolation.keras\n",
      "\u001b[1m57317/57317\u001b[0m \u001b[32m━━━━━━━━━━━━━━━━━━━━\u001b[0m\u001b[37m\u001b[0m \u001b[1m32s\u001b[0m 555us/step - accuracy: 0.3540 - loss: 490333.1250 - prc: 0.2381 - roc_auc: 0.5655 - val_accuracy: 0.3511 - val_loss: 502861.0625 - val_prc: 0.3143 - val_roc_auc: 0.6652\n",
      "Epoch 35/100\n",
      "\u001b[1m57254/57317\u001b[0m \u001b[32m━━━━━━━━━━━━━━━━━━━\u001b[0m\u001b[37m━\u001b[0m \u001b[1m0s\u001b[0m 545us/step - accuracy: 0.3533 - loss: 513214.0312 - prc: 0.2369 - roc_auc: 0.5643\n",
      "Epoch 35: val_roc_auc did not improve from 0.66523\n",
      "\u001b[1m57317/57317\u001b[0m \u001b[32m━━━━━━━━━━━━━━━━━━━━\u001b[0m\u001b[37m\u001b[0m \u001b[1m31s\u001b[0m 548us/step - accuracy: 0.3533 - loss: 513220.9688 - prc: 0.2369 - roc_auc: 0.5643 - val_accuracy: 0.3511 - val_loss: 923094.5000 - val_prc: 0.3088 - val_roc_auc: 0.6451\n",
      "Epoch 36/100\n",
      "\u001b[1m57257/57317\u001b[0m \u001b[32m━━━━━━━━━━━━━━━━━━━\u001b[0m\u001b[37m━\u001b[0m \u001b[1m0s\u001b[0m 536us/step - accuracy: 0.3552 - loss: 539322.6250 - prc: 0.2387 - roc_auc: 0.5658\n",
      "Epoch 36: val_roc_auc did not improve from 0.66523\n",
      "\u001b[1m57317/57317\u001b[0m \u001b[32m━━━━━━━━━━━━━━━━━━━━\u001b[0m\u001b[37m\u001b[0m \u001b[1m31s\u001b[0m 539us/step - accuracy: 0.3552 - loss: 539333.9375 - prc: 0.2387 - roc_auc: 0.5658 - val_accuracy: 0.3511 - val_loss: 854960.3750 - val_prc: 0.3088 - val_roc_auc: 0.6451\n",
      "Epoch 37/100\n",
      "\u001b[1m57234/57317\u001b[0m \u001b[32m━━━━━━━━━━━━━━━━━━━\u001b[0m\u001b[37m━\u001b[0m \u001b[1m0s\u001b[0m 540us/step - accuracy: 0.3548 - loss: 582970.8125 - prc: 0.2380 - roc_auc: 0.5651\n",
      "Epoch 37: val_roc_auc did not improve from 0.66523\n",
      "\u001b[1m57317/57317\u001b[0m \u001b[32m━━━━━━━━━━━━━━━━━━━━\u001b[0m\u001b[37m\u001b[0m \u001b[1m31s\u001b[0m 543us/step - accuracy: 0.3548 - loss: 582973.5625 - prc: 0.2380 - roc_auc: 0.5651 - val_accuracy: 0.4653 - val_loss: 870687.9375 - val_prc: 0.1867 - val_roc_auc: 0.4749\n",
      "Epoch 38/100\n",
      "\u001b[1m57240/57317\u001b[0m \u001b[32m━━━━━━━━━━━━━━━━━━━\u001b[0m\u001b[37m━\u001b[0m \u001b[1m0s\u001b[0m 536us/step - accuracy: 0.3542 - loss: 618000.8125 - prc: 0.2378 - roc_auc: 0.5645\n",
      "Epoch 38: val_roc_auc did not improve from 0.66523\n",
      "\u001b[1m57317/57317\u001b[0m \u001b[32m━━━━━━━━━━━━━━━━━━━━\u001b[0m\u001b[37m\u001b[0m \u001b[1m31s\u001b[0m 539us/step - accuracy: 0.3542 - loss: 617989.7500 - prc: 0.2378 - roc_auc: 0.5645 - val_accuracy: 0.1781 - val_loss: 790315.5000 - val_prc: 0.1946 - val_roc_auc: 0.4921\n",
      "Epoch 39/100\n",
      "\u001b[1m57260/57317\u001b[0m \u001b[32m━━━━━━━━━━━━━━━━━━━\u001b[0m\u001b[37m━\u001b[0m \u001b[1m0s\u001b[0m 527us/step - accuracy: 0.3554 - loss: 626950.1875 - prc: 0.2386 - roc_auc: 0.5658\n",
      "Epoch 39: val_roc_auc did not improve from 0.66523\n",
      "\u001b[1m57317/57317\u001b[0m \u001b[32m━━━━━━━━━━━━━━━━━━━━\u001b[0m\u001b[37m\u001b[0m \u001b[1m30s\u001b[0m 530us/step - accuracy: 0.3554 - loss: 626955.8125 - prc: 0.2386 - roc_auc: 0.5658 - val_accuracy: 0.1792 - val_loss: 545480.5625 - val_prc: 0.1950 - val_roc_auc: 0.4930\n",
      "Epoch 40/100\n",
      "\u001b[1m57265/57317\u001b[0m \u001b[32m━━━━━━━━━━━━━━━━━━━\u001b[0m\u001b[37m━\u001b[0m \u001b[1m0s\u001b[0m 512us/step - accuracy: 0.3561 - loss: 653854.2500 - prc: 0.2387 - roc_auc: 0.5659\n",
      "Epoch 40: val_roc_auc did not improve from 0.66523\n",
      "\u001b[1m57317/57317\u001b[0m \u001b[32m━━━━━━━━━━━━━━━━━━━━\u001b[0m\u001b[37m\u001b[0m \u001b[1m30s\u001b[0m 515us/step - accuracy: 0.3561 - loss: 653852.7500 - prc: 0.2387 - roc_auc: 0.5659 - val_accuracy: 0.3520 - val_loss: 878494.5625 - val_prc: 0.3089 - val_roc_auc: 0.6451\n",
      "Epoch 41/100\n",
      "\u001b[1m57311/57317\u001b[0m \u001b[32m━━━━━━━━━━━━━━━━━━━\u001b[0m\u001b[37m━\u001b[0m \u001b[1m0s\u001b[0m 517us/step - accuracy: 0.3575 - loss: 678889.5000 - prc: 0.2393 - roc_auc: 0.5669\n",
      "Epoch 41: val_roc_auc did not improve from 0.66523\n",
      "\u001b[1m57317/57317\u001b[0m \u001b[32m━━━━━━━━━━━━━━━━━━━━\u001b[0m\u001b[37m\u001b[0m \u001b[1m30s\u001b[0m 519us/step - accuracy: 0.3575 - loss: 678889.7500 - prc: 0.2393 - roc_auc: 0.5669 - val_accuracy: 0.4267 - val_loss: 506034.3750 - val_prc: 0.1818 - val_roc_auc: 0.4572\n",
      "Epoch 42/100\n",
      "\u001b[1m57296/57317\u001b[0m \u001b[32m━━━━━━━━━━━━━━━━━━━\u001b[0m\u001b[37m━\u001b[0m \u001b[1m0s\u001b[0m 551us/step - accuracy: 0.3589 - loss: 695890.9375 - prc: 0.2387 - roc_auc: 0.5652\n",
      "Epoch 42: val_roc_auc did not improve from 0.66523\n",
      "\u001b[1m57317/57317\u001b[0m \u001b[32m━━━━━━━━━━━━━━━━━━━━\u001b[0m\u001b[37m\u001b[0m \u001b[1m32s\u001b[0m 554us/step - accuracy: 0.3589 - loss: 695894.6875 - prc: 0.2387 - roc_auc: 0.5652 - val_accuracy: 0.2903 - val_loss: 780017.6875 - val_prc: 0.2215 - val_roc_auc: 0.5582\n",
      "Epoch 43/100\n",
      "\u001b[1m57254/57317\u001b[0m \u001b[32m━━━━━━━━━━━━━━━━━━━\u001b[0m\u001b[37m━\u001b[0m \u001b[1m0s\u001b[0m 560us/step - accuracy: 0.3599 - loss: 740586.3125 - prc: 0.2394 - roc_auc: 0.5655\n",
      "Epoch 43: val_roc_auc did not improve from 0.66523\n",
      "\u001b[1m57317/57317\u001b[0m \u001b[32m━━━━━━━━━━━━━━━━━━━━\u001b[0m\u001b[37m\u001b[0m \u001b[1m32s\u001b[0m 563us/step - accuracy: 0.3599 - loss: 740579.7500 - prc: 0.2394 - roc_auc: 0.5655 - val_accuracy: 0.3511 - val_loss: 1054091.6250 - val_prc: 0.3088 - val_roc_auc: 0.6451\n",
      "Epoch 44/100\n",
      "\u001b[1m57264/57317\u001b[0m \u001b[32m━━━━━━━━━━━━━━━━━━━\u001b[0m\u001b[37m━\u001b[0m \u001b[1m0s\u001b[0m 539us/step - accuracy: 0.3612 - loss: 755029.1875 - prc: 0.2398 - roc_auc: 0.5666\n",
      "Epoch 44: val_roc_auc did not improve from 0.66523\n",
      "\u001b[1m57317/57317\u001b[0m \u001b[32m━━━━━━━━━━━━━━━━━━━━\u001b[0m\u001b[37m\u001b[0m \u001b[1m31s\u001b[0m 542us/step - accuracy: 0.3612 - loss: 755028.7500 - prc: 0.2398 - roc_auc: 0.5666 - val_accuracy: 0.3729 - val_loss: 108834.9062 - val_prc: 0.2149 - val_roc_auc: 0.5259\n",
      "Epoch 44: early stopping\n",
      "Loss: 108834.90625, Accuracy: 0.3729078471660614, ROC AUC: 0.5258945226669312, PRC: 0.21485960483551025\n"
     ]
    },
    {
     "data": {
      "image/png": "[encoded data removed]",
      "text/plain": [
       "<Figure size 640x480 with 1 Axes>"
      ]
     },
     "metadata": {},
     "output_type": "display_data"
    },
    {
     "data": {
      "image/png": "[encoded data removed]",
      "text/plain": [
       "<Figure size 640x480 with 1 Axes>"
      ]
     },
     "metadata": {},
     "output_type": "display_data"
    },
    {
     "data": {
      "image/png": "[encoded data removed]",
      "text/plain": [
       "<Figure size 640x480 with 1 Axes>"
      ]
     },
     "metadata": {},
     "output_type": "display_data"
    }
   ],
   "source": [
    "import tensorflow as tf\n",
    "from tensorflow.keras import layers, models\n",
    "from tensorflow.keras.callbacks import ModelCheckpoint, EarlyStopping\n",
    "import numpy as np\n",
    "from tensorflow.keras.metrics import AUC\n",
    "\n",
    "TOTAL_FEATURES = train_x_ts.shape[-1]\n",
    "HIDDEN_DIM = 10\n",
    "NUM_CLASSES = train_y_ts.shape[-1]\n",
    "DROPOUT_RATE = 0.75\n",
    "\n",
    "def create_mlp():\n",
    "    model = models.Sequential([\n",
    "        layers.Input(shape=(TOTAL_FEATURES,)),\n",
    "        layers.Dense(HIDDEN_DIM, activation='relu'),\n",
    "        # layers.Dropout(DROPOUT_RATE),\n",
    "        layers.Dense(HIDDEN_DIM, activation='relu'),\n",
    "        # layers.Dropout(DROPOUT_RATE),\n",
    "        layers.Dense(NUM_CLASSES, activation='softmax')  \n",
    "    ])\n",
    "    return model\n",
    "\n",
    "\n",
    "\n",
    "# Compile the model\n",
    "model = create_mlp()\n",
    "model.compile(\n",
    "    optimizer='adam',\n",
    "    loss='categorical_crossentropy',\n",
    "    metrics=['accuracy', AUC(name='roc_auc'), AUC(name='prc', curve='PR')]\n",
    ")\n",
    "\n",
    "def train_model(model, X_train, y_train, X_val, y_val, epochs=100, batch_size=32):\n",
    "    checkpoint = ModelCheckpoint(\n",
    "        '/work/users/d/d/ddinh/aaco/models/mlp_interpolation.keras',  \n",
    "        monitor='val_roc_auc',\n",
    "        mode='max',  \n",
    "        save_best_only=True,\n",
    "        verbose=1\n",
    "    )\n",
    "    early_stopping = EarlyStopping(\n",
    "        monitor='val_roc_auc', \n",
    "        mode='max', \n",
    "        patience=10,  \n",
    "        verbose=1\n",
    "    )\n",
    "    with tf.device('/device:GPU:0'):\n",
    "        history = model.fit(\n",
    "            X_train, y_train,\n",
    "            validation_data=(X_val, y_val),\n",
    "            epochs=epochs,\n",
    "            batch_size=batch_size,\n",
    "            callbacks=[checkpoint, early_stopping],\n",
    "            verbose=1\n",
    "        )\n",
    "    return history\n",
    "\n",
    "def evaluate_model(model, X, y):\n",
    "    loss, accuracy, roc_auc, prc = model.evaluate(X, y, verbose=0)\n",
    "    print(f\"Loss: {loss}, Accuracy: {accuracy}, ROC AUC: {roc_auc}, PRC: {prc}\")\n",
    "    return loss, accuracy, roc_auc\n",
    "\n",
    "# history = train_model(model, train_x_ts, train_y_ts, val_x_ts, val_y_ts)\n",
    "# evaluate_model(model, val_x_ts, val_y_ts)\n",
    "history = train_model(model, X_class, Y_class, X_class_val, Y_class_val)\n",
    "evaluate_model(model, X_class_val, Y_class_val)\n",
    "\n",
    "def plot_history(history):\n",
    "    plt.plot(history.history['roc_auc'])\n",
    "    plt.plot(history.history['val_roc_auc'])\n",
    "    plt.title('model roc_auc')\n",
    "    plt.ylabel('roc_auc')\n",
    "    plt.xlabel('epoch')\n",
    "    plt.legend(['train', 'val'], loc='upper left')\n",
    "    plt.show()\n",
    "    \n",
    "    plt.plot(history.history['prc'])\n",
    "    plt.plot(history.history['val_prc'])\n",
    "    plt.title('model prc')\n",
    "    plt.ylabel('prc')\n",
    "    plt.xlabel('epoch')\n",
    "    plt.legend(['train', 'val'], loc='upper left')\n",
    "    plt.show()\n",
    "    \n",
    "    plt.plot(history.history['loss'])\n",
    "    plt.plot(history.history['val_loss'])\n",
    "    plt.title('model loss')\n",
    "    plt.ylabel('loss')\n",
    "    plt.xlabel('epoch')\n",
    "    plt.legend(['train', 'val'], loc='upper left')\n",
    "    plt.show()\n",
    "plot_history(history)\n",
    "#  val_prc: 0.5998 - val_roc_auc: 0.7917\n",
    "# val_accuracy: 0.5886 - val_loss: 0.8313 - val_prc: 0.5985 - val_roc_auc: 0.7912"
   ]
  },
  {
   "cell_type": "markdown",
   "metadata": {},
   "source": [
    "My version"
   ]
  },
  {
   "cell_type": "code",
   "execution_count": 9,
   "metadata": {},
   "outputs": [],
   "source": [
    "\n",
    "dataset = load_adni_data()\n",
    "x = dataset.x\n",
    "y = dataset.y\n",
    "\n",
    "mask_nan = np.isnan(x)\n",
    "\n",
    "x[mask_nan] = 0\n",
    "\n",
    "num_ts = y.shape[1]\n"
   ]
  },
  {
   "cell_type": "code",
   "execution_count": 10,
   "metadata": {},
   "outputs": [
    {
     "name": "stdout",
     "output_type": "stream",
     "text": [
      "[0.06387226 0.64271457 0.29341317]\n",
      "[0.08805668 0.61234818 0.29959514]\n",
      "[0.10761421 0.59187817 0.30050761]\n",
      "[0.125      0.58974359 0.28525641]\n",
      "[0.16613757 0.54179894 0.29206349]\n",
      "[0.13573883 0.56872852 0.29553265]\n",
      "[0.178125  0.5796875 0.2421875]\n",
      "[0.18283582 0.53731343 0.27985075]\n",
      "[0.17350746 0.46455224 0.3619403 ]\n",
      "[0.18235294 0.45294118 0.36470588]\n",
      "[0.18596491 0.49473684 0.31929825]\n",
      "[0.17098446 0.43005181 0.39896373]\n"
     ]
    }
   ],
   "source": [
    "for i in range(num_ts):\n",
    "    count = [0,0,0]\n",
    "    total = 0\n",
    "    for j in range(y.shape[0]):\n",
    "        for k in range(3):\n",
    "            if y[j,i,k] == 1:\n",
    "                count[k] += 1\n",
    "                total += 1\n",
    "    count = np.array(count)\n",
    "    print(count/total)"
   ]
  },
  {
   "cell_type": "code",
   "execution_count": 11,
   "metadata": {},
   "outputs": [
    {
     "name": "stdout",
     "output_type": "stream",
     "text": [
      "[0.13054449 0.56998672 0.29946879]\n"
     ]
    }
   ],
   "source": [
    "count = [0,0,0]\n",
    "total = 0\n",
    "for i in range(num_ts):\n",
    "    for j in range(y.shape[0]):\n",
    "        for k in range(3):\n",
    "            if y[j,i,k] == 1:\n",
    "                count[k] += 1\n",
    "                total += 1\n",
    "count = np.array(count)\n",
    "print(count/total)"
   ]
  },
  {
   "cell_type": "code",
   "execution_count": 12,
   "metadata": {},
   "outputs": [
    {
     "data": {
      "text/plain": [
       "0.40976380572188953"
      ]
     },
     "execution_count": 12,
     "metadata": {},
     "output_type": "execute_result"
    }
   ],
   "source": [
    "mask_nan = x==0\n",
    "# get the number of nan values\n",
    "total = mask_nan.sum()\n",
    "probability = total / x.size\n",
    "probability"
   ]
  },
  {
   "cell_type": "code",
   "execution_count": 13,
   "metadata": {},
   "outputs": [
    {
     "data": {
      "text/plain": [
       "((801, 12, 4), (201, 12, 4), (801, 12, 3), (201, 12, 3))"
      ]
     },
     "execution_count": 13,
     "metadata": {},
     "output_type": "execute_result"
    }
   ],
   "source": [
    "# split dataset into train and test sets 80/20 with random seed 42\n",
    "from sklearn.model_selection import train_test_split\n",
    "x_train, x_val, y_train, y_val = train_test_split(x, y, test_size=0.2, random_state=42)\n",
    "x_train.shape, x_val.shape, y_train.shape, y_val.shape"
   ]
  },
  {
   "cell_type": "code",
   "execution_count": 14,
   "metadata": {},
   "outputs": [],
   "source": [
    "x_train = prepare_time_series(torch.Tensor([range(0,12)] * x_train.shape[0]), torch.Tensor(x_train))[1]\n",
    "y_train = prepare_time_series(torch.Tensor([range(0,12)] * y_train.shape[0]), torch.Tensor(y_train))[1]"
   ]
  },
  {
   "cell_type": "code",
   "execution_count": 15,
   "metadata": {},
   "outputs": [
    {
     "data": {
      "text/plain": [
       "tensor([[ 0.3297,  0.1390,  1.3199, -0.0833],\n",
       "        [ 0.3297,  0.1390,  1.0883,  0.3012],\n",
       "        [ 0.3297,  0.1390,  0.9298, -0.1822],\n",
       "        [ 0.3297,  0.1390,  0.9298, -0.1822],\n",
       "        [ 0.3297,  0.0346,  0.9745,  0.2414],\n",
       "        [ 0.0000,  0.0000,  0.0000,  0.0000],\n",
       "        [ 0.3297,  0.0346,  0.9745,  0.2414],\n",
       "        [ 0.0000,  0.0000,  0.0000,  0.0000],\n",
       "        [ 0.3297,  0.4605,  0.9745,  0.2414],\n",
       "        [ 0.0000,  0.0000,  0.0000,  0.0000],\n",
       "        [ 0.0000,  0.0000,  0.0000,  0.0000]])"
      ]
     },
     "execution_count": 15,
     "metadata": {},
     "output_type": "execute_result"
    }
   ],
   "source": [
    "x_train[0]"
   ]
  },
  {
   "cell_type": "code",
   "execution_count": null,
   "metadata": {},
   "outputs": [],
   "source": [
    "# x_train = torch.cat([x_train, x_train[:, [-1]]], dim=-2).numpy()\n",
    "# y_train = torch.cat([y_train, y_train[:, [-1]]], dim=-2).numpy()"
   ]
  },
  {
   "cell_type": "code",
   "execution_count": null,
   "metadata": {},
   "outputs": [],
   "source": [
    "# y_train = np.round(y_train)"
   ]
  },
  {
   "cell_type": "code",
   "execution_count": null,
   "metadata": {},
   "outputs": [],
   "source": [
    "# x_ts = []\n",
    "# y_ts = []\n",
    "\n",
    "# for i in range(num_ts): \n",
    "#     x_temp = np.zeros_like(x_train)\n",
    "#     x_temp[:, :i+1, :] = x_train[:, :i+1, :]\n",
    "#     x_ts.append(x_temp)    \n",
    "#     y_ts.append(y_train)\n",
    "# x_ts = np.concatenate(x_ts, axis=0)\n",
    "# y_ts = np.concatenate(y_ts, axis=0)\n",
    "# x_ts.shape, y_ts.shape"
   ]
  },
  {
   "cell_type": "code",
   "execution_count": null,
   "metadata": {},
   "outputs": [],
   "source": [
    "\"\"\"temp\n",
    "\"\"\"\n",
    "x_ts = x_train\n",
    "y_ts = y_train"
   ]
  },
  {
   "cell_type": "code",
   "execution_count": null,
   "metadata": {},
   "outputs": [],
   "source": [
    "x_all = []\n",
    "for item in x_ts:\n",
    "    x_all.append(item.flatten('F'))\n",
    "x_train = np.array(x_all)\n",
    "y_train = y_ts"
   ]
  },
  {
   "cell_type": "code",
   "execution_count": null,
   "metadata": {},
   "outputs": [],
   "source": [
    "import numpy as np\n",
    "\n",
    "def apply_masks(inputs, pm=0.2, pd_m=0.4):\n",
    "    inputs = np.copy(inputs).reshape(-1, 12, 4)\n",
    "    n, T, M = inputs.shape\n",
    "    masked_inputs = inputs.copy()\n",
    "\n",
    "    mask_m1 = np.random.binomial(1, pm, size=(n, T, M))\n",
    "    \n",
    "    t_max = np.random.randint(0, T, size=n)\n",
    "    mask_m2 = np.ones((n, T, M))\n",
    "    for i in range(n):\n",
    "        mask_m2[i, t_max[i]:] = 0\n",
    "    \n",
    "    modality_drop = np.random.binomial(1, pd_m, size=(n, M))\n",
    "    mask_m3 = np.ones((n, T, M))\n",
    "    for m in range(M):\n",
    "        mask_m3[:, :, m] *= modality_drop[:, m].reshape(-1, 1)\n",
    "\n",
    "    final_mask = mask_m1 * mask_m2 * mask_m3\n",
    "    masked_inputs *= final_mask\n",
    "\n",
    "    return masked_inputs, final_mask.reshape(n, -1)\n",
    "\n",
    "pm = 0.2\n",
    "pd_m = 0.4 "
   ]
  },
  {
   "cell_type": "code",
   "execution_count": null,
   "metadata": {},
   "outputs": [],
   "source": [
    "masksper = 256 * 2\n",
    "d = x_train.shape[1]\n",
    "X_class = np.concatenate([x_train]*masksper, 0)\n",
    "Y_class = np.concatenate([y_train]*masksper, 0)\n",
    "# B = np.concatenate(\n",
    "# [np.sum(np.random.permutation(np.eye(d))[:, :np.random.randint(d)], 1, keepdims=True) for _ in range(X_class.shape[0])],\n",
    "# 1)\n",
    "# B = np.float32(B.T)\n",
    "\n",
    "_, B = apply_masks(X_class, pm, pd_m)\n",
    "    \n",
    "\"\"\"\n",
    "remove for interpolation\n",
    "\"\"\"\n",
    "zero_mask = X_class == 0\n",
    "B[zero_mask] = 0\n",
    "\n",
    "# # remove 0 mask\n",
    "mask_nonzero = np.sum(B, axis=1) != 0\n",
    "B = B[mask_nonzero]\n",
    "X_class = X_class[mask_nonzero]\n",
    "Y_class = Y_class[mask_nonzero]\n"
   ]
  },
  {
   "cell_type": "code",
   "execution_count": null,
   "metadata": {},
   "outputs": [],
   "source": [
    "# mask_nan = X_class == 0\n",
    "# B[mask_nan] = 0"
   ]
  },
  {
   "cell_type": "code",
   "execution_count": null,
   "metadata": {},
   "outputs": [],
   "source": [
    "X_class = np.concatenate((X_class*B, B), 1)"
   ]
  },
  {
   "cell_type": "code",
   "execution_count": null,
   "metadata": {},
   "outputs": [],
   "source": [
    "X_class.shape, Y_class.shape"
   ]
  },
  {
   "cell_type": "code",
   "execution_count": null,
   "metadata": {},
   "outputs": [],
   "source": [
    "location = []\n",
    "for i in range(B.shape[0]):\n",
    "    b = B[i]\n",
    "    temp = -1\n",
    "    for j in range(4):\n",
    "        part = b[num_ts*j:num_ts*(j+1)]\n",
    "        max_index = np.where(part == 1)[0]\n",
    "        if len(max_index) > 0:\n",
    "            max_index = max_index[-1]\n",
    "            if max_index > temp:\n",
    "                temp = max_index\n",
    "    location.append(temp)\n",
    "    \n",
    "location = np.array(location)"
   ]
  },
  {
   "cell_type": "code",
   "execution_count": null,
   "metadata": {},
   "outputs": [],
   "source": [
    "unique, counts = np.unique(location, return_counts=True)\n",
    "print(np.asarray((unique, counts)).T)"
   ]
  },
  {
   "cell_type": "code",
   "execution_count": null,
   "metadata": {},
   "outputs": [],
   "source": [
    "y_temp = []\n",
    "for i in range(Y_class.shape[0]):\n",
    "    y_location = Y_class[i, location[i]]\n",
    "    mask_nan = np.isnan(y_location)\n",
    "    y_location[mask_nan] = 0\n",
    "    y_temp.append(y_location)\n",
    "y_temp = np.array(y_temp)"
   ]
  },
  {
   "cell_type": "code",
   "execution_count": null,
   "metadata": {},
   "outputs": [],
   "source": [
    "# remove y with nan values\n",
    "mask_zero = np.sum(y_temp, axis=1) != 0\n",
    "X_class = X_class[mask_zero]\n",
    "Y_class = y_temp[mask_zero]"
   ]
  },
  {
   "cell_type": "code",
   "execution_count": null,
   "metadata": {},
   "outputs": [],
   "source": [
    "Y_class = np.argmax(Y_class, axis=1)"
   ]
  },
  {
   "cell_type": "code",
   "execution_count": null,
   "metadata": {},
   "outputs": [],
   "source": [
    "# Train classifier\n",
    "est = XGBClassifier(n_estimators=256, device='gpu')\n",
    "est.fit(X_class, Y_class)"
   ]
  },
  {
   "cell_type": "code",
   "execution_count": null,
   "metadata": {},
   "outputs": [],
   "source": [
    "# est.save_model('/work/users/d/d/ddinh/aaco/models/adni_different_masking.model')"
   ]
  },
  {
   "cell_type": "code",
   "execution_count": null,
   "metadata": {},
   "outputs": [],
   "source": [
    "x_ts_val = []\n",
    "y_ts_val = []\n",
    "\n",
    "for i in range(num_ts): \n",
    "    x_temp = np.zeros_like(x_val)\n",
    "    x_temp[:, :i+1, :] = x_val[:, :i+1, :]\n",
    "    x_ts_val.append(x_temp)    \n",
    "    y_ts_val.append(y_val)\n",
    "x_ts_val = np.concatenate(x_ts_val, axis=0)\n",
    "y_ts_val = np.concatenate(y_ts_val, axis=0)\n",
    "x_ts_val.shape, y_ts_val.shape"
   ]
  },
  {
   "cell_type": "code",
   "execution_count": null,
   "metadata": {},
   "outputs": [],
   "source": [
    "x_all_val = []\n",
    "for item in x_ts_val:\n",
    "    x_all_val.append(item.flatten('F'))\n",
    "x_val = np.array(x_all_val)\n",
    "y_val = y_ts_val"
   ]
  },
  {
   "cell_type": "code",
   "execution_count": null,
   "metadata": {},
   "outputs": [],
   "source": [
    "masksper = 1\n",
    "d = x_val.shape[1]\n",
    "X_class_val = np.concatenate([x_val]*masksper, 0)\n",
    "Y_class_val = np.concatenate([y_val]*masksper, 0)\n",
    "B_val = np.concatenate(\n",
    "[np.sum(np.random.permutation(np.eye(d))[:, :np.random.randint(d)], 1, keepdims=True) for _ in range(X_class_val.shape[0])],\n",
    "1)\n",
    "B_val = np.float32(B_val.T)\n",
    "\n",
    "# B_val = np.ones_like(B_val)\n",
    "\n",
    "zero_mask_val = X_class_val == 0\n",
    "B_val[zero_mask_val] = 0\n",
    "\n",
    "# remove 0 mask\n",
    "mask_nonzero_val = np.sum(B_val, axis=1) != 0\n",
    "B_val = B_val[mask_nonzero_val]\n",
    "X_class_val = X_class_val[mask_nonzero_val]\n",
    "Y_class_val = Y_class_val[mask_nonzero_val]"
   ]
  },
  {
   "cell_type": "code",
   "execution_count": null,
   "metadata": {},
   "outputs": [],
   "source": [
    "location_val = []\n",
    "for i in range(B_val.shape[0]):\n",
    "    b = B_val[i]\n",
    "    temp = -1\n",
    "    for j in range(4):\n",
    "        part = b[num_ts*j:num_ts*(j+1)]\n",
    "        max_index = np.where(part == 1)[0]\n",
    "        if len(max_index) > 0:\n",
    "            max_index = max_index[-1]\n",
    "            if max_index > temp:\n",
    "                temp = max_index\n",
    "    location_val.append(temp)\n",
    "    \n",
    "location_val = np.array(location_val)"
   ]
  },
  {
   "cell_type": "code",
   "execution_count": null,
   "metadata": {},
   "outputs": [],
   "source": [
    "y_temp_val = []\n",
    "for i in range(Y_class_val.shape[0]):\n",
    "    y_location_val = Y_class_val[i, location_val[i]]\n",
    "    mask_nan_val = np.isnan(y_location_val)\n",
    "    y_location_val[mask_nan_val] = 0\n",
    "    y_temp_val.append(y_location_val)\n",
    "y_temp_val = np.array(y_temp_val)"
   ]
  },
  {
   "cell_type": "code",
   "execution_count": null,
   "metadata": {},
   "outputs": [],
   "source": [
    "# remove y with nan values for validation set\n",
    "mask_zero_val = np.sum(y_temp_val, axis=1) != 0\n",
    "X_class_val = X_class_val[mask_zero_val]\n",
    "Y_class_val = y_temp_val[mask_zero_val]\n",
    "B_val = B_val[mask_zero_val]"
   ]
  },
  {
   "cell_type": "code",
   "execution_count": null,
   "metadata": {},
   "outputs": [],
   "source": [
    "mask_zero_val.shape"
   ]
  },
  {
   "cell_type": "code",
   "execution_count": null,
   "metadata": {},
   "outputs": [],
   "source": [
    "X_class_val = np.concatenate((X_class_val*B_val, B_val), 1)"
   ]
  },
  {
   "cell_type": "code",
   "execution_count": null,
   "metadata": {},
   "outputs": [],
   "source": [
    "val_preds = est.predict_proba(X_class_val) "
   ]
  },
  {
   "cell_type": "code",
   "execution_count": null,
   "metadata": {},
   "outputs": [],
   "source": [
    "print(np.mean(np.argmax(val_preds, 1)==np.argmax(Y_class_val, 1)))"
   ]
  },
  {
   "cell_type": "code",
   "execution_count": null,
   "metadata": {},
   "outputs": [],
   "source": [
    "# this is temoprary evaluation, since it's not really correct.\n",
    "# it should be evaluated on the accumulated predictions, not the individual predictions like this rolling out \n",
    "from sklearn.metrics import roc_auc_score\n",
    "from sklearn.metrics import average_precision_score\n",
    "\n",
    "pr_auc_macro = average_precision_score(Y_class_val, val_preds, average=\"macro\")\n",
    "print(pr_auc_macro)\n",
    "\n",
    "roc_auc_macro = roc_auc_score(Y_class_val, val_preds, average=\"macro\", multi_class=\"ovr\")\n",
    "print(roc_auc_macro)"
   ]
  },
  {
   "cell_type": "code",
   "execution_count": null,
   "metadata": {},
   "outputs": [],
   "source": [
    "np.sum(B_val.mean(0))"
   ]
  },
  {
   "cell_type": "code",
   "execution_count": null,
   "metadata": {},
   "outputs": [],
   "source": [
    "# baseline\n",
    "# 0.5057228523811975\n",
    "# 0.6798018971723648\n",
    "\n",
    "# masking from a2mt paper\n",
    "# 0.5109105973299515\n",
    "# 0.7030657167468642"
   ]
  }
 ],
 "metadata": {
  "colab": {
   "machine_shape": "hm",
   "provenance": []
  },
  "kernelspec": {
   "display_name": ".venv",
   "language": "python",
   "name": "python3"
  },
  "language_info": {
   "codemirror_mode": {
    "name": "ipython",
    "version": 3
   },
   "file_extension": ".py",
   "mimetype": "text/x-python",
   "name": "python",
   "nbconvert_exporter": "python",
   "pygments_lexer": "ipython3",
   "version": "3.11.9"
  }
 },
 "nbformat": 4,
 "nbformat_minor": 0
}
