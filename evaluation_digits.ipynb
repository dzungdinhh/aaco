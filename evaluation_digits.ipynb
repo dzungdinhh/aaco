{
 "cells": [
  {
   "cell_type": "code",
   "execution_count": 2,
   "metadata": {},
   "outputs": [],
   "source": [
    "import tensorflow as tf\n",
    "import numpy as np\n",
    "%matplotlib inline\n",
    "import matplotlib.pyplot as plt\n",
    "import pickle\n",
    "import time\n",
    "from xgboost import XGBClassifier\n",
    "from xgboost import XGBRegressor\n",
    "import sys\n",
    "sys.path.append('/work/users/d/d/ddinh/aaco/src')\n",
    "from load_dataset import load_adni_data\n",
    "from sklearn.metrics import roc_auc_score, average_precision_score, precision_recall_curve\n",
    "import tensorflow as tf\n"
   ]
  },
  {
   "cell_type": "markdown",
   "metadata": {},
   "source": [
    "## Data"
   ]
  },
  {
   "cell_type": "code",
   "execution_count": 3,
   "metadata": {},
   "outputs": [],
   "source": [
    "\n",
    "from tslearn.datasets import UCR_UEA_datasets\n",
    "data_loader = UCR_UEA_datasets()\n",
    "\n",
    "Xtrn, Ytrn, Xval, Yval = data_loader.load_dataset(\n",
    "        \"PenDigits\")\n",
    "Ytrn = np.eye(10)[Ytrn.astype(int)]\n",
    "Yval = np.eye(10)[Yval.astype(int)]"
   ]
  },
  {
   "cell_type": "code",
   "execution_count": 4,
   "metadata": {},
   "outputs": [],
   "source": [
    "Xtrn = np.transpose(Xtrn, (0,2,1)).reshape(-1, Xtrn.shape[1] * Xtrn.shape[2])\n",
    "Xval = np.transpose(Xval, (0,2,1)).reshape(-1, Xval.shape[1] * Xval.shape[2])"
   ]
  },
  {
   "cell_type": "code",
   "execution_count": 5,
   "metadata": {},
   "outputs": [
    {
     "data": {
      "text/plain": [
       "((7494, 16), (7494, 10), (3498, 16), (3498, 10))"
      ]
     },
     "execution_count": 5,
     "metadata": {},
     "output_type": "execute_result"
    }
   ],
   "source": [
    "Xtrn.shape, Ytrn.shape, Xval.shape, Yval.shape"
   ]
  },
  {
   "cell_type": "code",
   "execution_count": 6,
   "metadata": {},
   "outputs": [],
   "source": [
    "# load pt file \n",
    "import torch \n",
    "# path = '/work/users/d/d/ddinh/aaco/results/dataset_adnimlp_imputation_exclude_nan_mask_less_features.pt'\n",
    "path = '/work/users/d/d/ddinh/aaco/results/dataset_digits_xgb.pt'\n",
    "data = torch.load(path)\n",
    "x = data['X']\n",
    "y = data['y']\n",
    "mask = data['mask']\n",
    "action = data['Action']"
   ]
  },
  {
   "cell_type": "code",
   "execution_count": 7,
   "metadata": {},
   "outputs": [],
   "source": [
    "merge_action = []\n",
    "count = 0\n",
    "for i in range(action.shape[0]):\n",
    "    if action[i, 0] == 1:\n",
    "        merge_action.append(action[i])\n",
    "        count += 1\n",
    "    else:\n",
    "        merge_action[count - 1] += action[i]\n",
    "merge_action = np.array(merge_action)\n",
    "merge_action = merge_action[:,:-1]"
   ]
  },
  {
   "cell_type": "code",
   "execution_count": 8,
   "metadata": {},
   "outputs": [],
   "source": [
    "merge_action = np.expand_dims(merge_action, axis=-1)\n",
    "merge_action = np.concatenate([merge_action, merge_action], axis=-1)\n",
    "merge_action = np.transpose(merge_action, (0,2,1)).reshape(-1, merge_action.shape[1] * merge_action.shape[2])"
   ]
  },
  {
   "cell_type": "code",
   "execution_count": 9,
   "metadata": {},
   "outputs": [
    {
     "data": {
      "text/plain": [
       "array([1., 0., 0., 1., 0., 0., 0., 0., 1., 0., 0., 1., 0., 0., 0., 0.],\n",
       "      dtype=float32)"
      ]
     },
     "execution_count": 9,
     "metadata": {},
     "output_type": "execute_result"
    }
   ],
   "source": [
    "merge_action[0]"
   ]
  },
  {
   "cell_type": "code",
   "execution_count": 10,
   "metadata": {},
   "outputs": [],
   "source": [
    "import tensorflow as tf\n",
    "# model = tf.keras.models.load_model('/work/users/d/d/ddinh/aaco/models/mlp.keras')\n",
    "model = XGBClassifier()\n",
    "model.load_model('/work/users/d/d/ddinh/aaco/models/digits.model')"
   ]
  },
  {
   "cell_type": "code",
   "execution_count": 11,
   "metadata": {},
   "outputs": [
    {
     "name": "stdout",
     "output_type": "stream",
     "text": [
      "0.959748427672956\n"
     ]
    }
   ],
   "source": [
    "Xvalmasked = np.concatenate((Xval*merge_action, merge_action), 1)\n",
    "val_preds = model.predict_proba(Xvalmasked) \n",
    "print(np.mean(np.round(val_preds)==Yval))"
   ]
  },
  {
   "cell_type": "code",
   "execution_count": 12,
   "metadata": {},
   "outputs": [
    {
     "data": {
      "text/plain": [
       "4.0914807"
      ]
     },
     "execution_count": 12,
     "metadata": {},
     "output_type": "execute_result"
    }
   ],
   "source": [
    "np.sum(merge_action, 1).mean()"
   ]
  },
  {
   "cell_type": "code",
   "execution_count": null,
   "metadata": {},
   "outputs": [],
   "source": []
  }
 ],
 "metadata": {
  "kernelspec": {
   "display_name": ".venv",
   "language": "python",
   "name": "python3"
  },
  "language_info": {
   "codemirror_mode": {
    "name": "ipython",
    "version": 3
   },
   "file_extension": ".py",
   "mimetype": "text/x-python",
   "name": "python",
   "nbconvert_exporter": "python",
   "pygments_lexer": "ipython3",
   "version": "3.11.9"
  }
 },
 "nbformat": 4,
 "nbformat_minor": 2
}
