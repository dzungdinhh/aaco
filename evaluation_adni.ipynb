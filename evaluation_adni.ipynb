{
 "cells": [
  {
   "cell_type": "code",
   "execution_count": 1,
   "metadata": {},
   "outputs": [
    {
     "name": "stderr",
     "output_type": "stream",
     "text": [
      "2025-01-06 12:37:09.470574: E external/local_xla/xla/stream_executor/cuda/cuda_fft.cc:485] Unable to register cuFFT factory: Attempting to register factory for plugin cuFFT when one has already been registered\n",
      "2025-01-06 12:37:09.484165: E external/local_xla/xla/stream_executor/cuda/cuda_dnn.cc:8454] Unable to register cuDNN factory: Attempting to register factory for plugin cuDNN when one has already been registered\n",
      "2025-01-06 12:37:09.488356: E external/local_xla/xla/stream_executor/cuda/cuda_blas.cc:1452] Unable to register cuBLAS factory: Attempting to register factory for plugin cuBLAS when one has already been registered\n",
      "2025-01-06 12:37:09.500282: I tensorflow/core/platform/cpu_feature_guard.cc:210] This TensorFlow binary is optimized to use available CPU instructions in performance-critical operations.\n",
      "To enable the following instructions: AVX2 FMA, in other operations, rebuild TensorFlow with the appropriate compiler flags.\n",
      "2025-01-06 12:37:13.488750: W tensorflow/compiler/tf2tensorrt/utils/py_utils.cc:38] TF-TRT Warning: Could not find TensorRT\n"
     ]
    }
   ],
   "source": [
    "import tensorflow as tf\n",
    "import numpy as np\n",
    "%matplotlib inline\n",
    "import matplotlib.pyplot as plt\n",
    "import pickle\n",
    "import time\n",
    "from xgboost import XGBClassifier\n",
    "from xgboost import XGBRegressor\n",
    "import sys\n",
    "sys.path.append('/work/users/d/d/ddinh/aaco/src')\n",
    "from load_dataset import load_adni_data\n",
    "from sklearn.metrics import roc_auc_score, average_precision_score, precision_recall_curve\n",
    "import tensorflow as tf\n"
   ]
  },
  {
   "cell_type": "markdown",
   "metadata": {},
   "source": [
    "## Data"
   ]
  },
  {
   "cell_type": "code",
   "execution_count": 2,
   "metadata": {},
   "outputs": [],
   "source": [
    "def load_data(file_path):\n",
    "    ds = load_adni_data(file_path=file_path)\n",
    "    x = ds.x\n",
    "    y = ds.y\n",
    "    mask_nan = np.isnan(x)\n",
    "    x[mask_nan] = 0\n",
    "    \n",
    "    mask_nan_y = np.isnan(y)\n",
    "    y[mask_nan_y] = 0\n",
    "    return x, y\n",
    "\n",
    "train_x, train_y = load_data(\"/work/users/d/d/ddinh/aaco/input_data/train_data.npz\")\n",
    "val_x, val_y = load_data(\"/work/users/d/d/ddinh/aaco/input_data/val_data.npz\")\n",
    "test_x, test_y = load_data(\"/work/users/d/d/ddinh/aaco/input_data/test_data.npz\")\n",
    "\n",
    "num_ts = train_x.shape[1]"
   ]
  },
  {
   "cell_type": "code",
   "execution_count": 3,
   "metadata": {},
   "outputs": [],
   "source": [
    "def get_ts(x, y): \n",
    "    x_data = np.copy(x)\n",
    "    y_data = np.copy(y)\n",
    "    x_ts = []\n",
    "    y_ts = []\n",
    "    \n",
    "    for i in range(num_ts):\n",
    "        x_zero = np.zeros(x_data.shape)\n",
    "        x_zero[:, :i+1] = x_data[:, :i+1]\n",
    "        \n",
    "        non_zero_mask = np.sum(y_data[:,i,:], axis=1) != 0\n",
    "        x_filtered = np.transpose(x_zero[non_zero_mask,:,:], (0, 2, 1)).reshape(-1, x_data.shape[1] * x_data.shape[2])\n",
    "        x_filtered = np.concatenate([x_filtered, np.repeat(i, x_filtered.shape[0])[:, None]], axis=1)\n",
    "        x_ts.append(x_filtered)\n",
    "        y_ts.append(y_data[non_zero_mask, i, :])\n",
    "        \n",
    "    x_ts = np.concatenate(x_ts, axis=0)\n",
    "    y_ts = np.concatenate(y_ts, axis=0)\n",
    "    \n",
    "    \n",
    "    return x_ts, y_ts\n",
    "\n",
    "test_x_ts, test_y_ts = get_ts(test_x, test_y)\n"
   ]
  },
  {
   "cell_type": "code",
   "execution_count": 4,
   "metadata": {},
   "outputs": [],
   "source": [
    "train_x_ts, train_y_ts = get_ts(train_x, train_y)\n",
    "val_x_ts, val_y_ts = get_ts(val_x, val_y)\n",
    "\n",
    "train_x_ts = np.concatenate([train_x_ts, val_x_ts], axis=0)\n",
    "train_y_ts = np.concatenate([train_y_ts, val_y_ts], axis=0)"
   ]
  },
  {
   "cell_type": "code",
   "execution_count": 5,
   "metadata": {},
   "outputs": [],
   "source": [
    "# load pt file \n",
    "import torch \n",
    "path = '/work/users/d/d/ddinh/aaco/results/dataset_adni_siamese_0.01.pt'\n",
    "# path = '/work/users/d/d/ddinh/aaco/results/dataset_adnimlp_imputation_exclude_nan_mask_less_features.pt'\n",
    "# path = '/work/users/d/d/ddinh/aaco/results/dataset_adni_mlp_progressively.pt'\n",
    "data = torch.load(path)\n",
    "x = data['X']\n",
    "y = data['y']\n",
    "mask = data['mask']\n",
    "action = data['Action']"
   ]
  },
  {
   "cell_type": "code",
   "execution_count": 6,
   "metadata": {},
   "outputs": [],
   "source": [
    "merge_action = []\n",
    "count = 0\n",
    "for i in range(action.shape[0]):\n",
    "    if action[i, 0] == 1:\n",
    "        merge_action.append(action[i])\n",
    "        count += 1\n",
    "    else:\n",
    "        merge_action[count - 1] += action[i]\n",
    "merge_action = np.array(merge_action)\n",
    "merge_action = merge_action[:,:-1]"
   ]
  },
  {
   "cell_type": "code",
   "execution_count": 7,
   "metadata": {},
   "outputs": [
    {
     "data": {
      "text/plain": [
       "(200, 48)"
      ]
     },
     "execution_count": 7,
     "metadata": {},
     "output_type": "execute_result"
    }
   ],
   "source": [
    "merge_action.shape"
   ]
  },
  {
   "cell_type": "code",
   "execution_count": 8,
   "metadata": {},
   "outputs": [],
   "source": [
    "# # RANDOM \n",
    "# def random_integers_with_average(n, target_avg, range_min, range_max):\n",
    "#     target_sum = n * target_avg\n",
    "\n",
    "#     random_integers = np.random.randint(range_min, range_max + 1, n)\n",
    "    \n",
    "#     current_sum = np.sum(random_integers)\n",
    "#     difference = target_sum - current_sum\n",
    "\n",
    "#     for _ in range(abs(difference)):\n",
    "#         idx = np.random.randint(0, n)\n",
    "#         if difference > 0 and random_integers[idx] < range_max:\n",
    "#             random_integers[idx] += 1\n",
    "#         elif difference < 0 and random_integers[idx] > range_min:\n",
    "#             random_integers[idx] -= 1\n",
    "\n",
    "#     return random_integers\n",
    "\n",
    "# target_avg = 28\n",
    "# dimensions = random_integers_with_average(merge_action.shape[0], target_avg, 0, test_x.shape[1] * test_x.shape[2])\n",
    "\n",
    "# test_x_flatten = np.transpose(test_x, (0, 2, 1)).reshape(-1, test_x.shape[1] * test_x.shape[2])\n",
    "\n",
    "# d = train_x.shape[2] * train_x.shape[1]\n",
    "# B = np.concatenate(\n",
    "# [np.sum(np.random.permutation(np.eye(d))[:, :dimensions[k]], 1, keepdims=True) for k in range(merge_action.shape[0])],\n",
    "# 1)\n",
    "# B = np.float32(B.T)\n",
    "# zero_mask = test_x_flatten[:,:d] == 0\n",
    "# print(B.shape, zero_mask.shape)\n",
    "# B[zero_mask] = 0\n",
    "\n",
    "# merge_action = B\n",
    "# print(merge_action.mean(0).sum())\n",
    "\n",
    "# # COST = [4.485, 10.5025, 12.62, 6.0125, 11.645]"
   ]
  },
  {
   "cell_type": "code",
   "execution_count": 9,
   "metadata": {},
   "outputs": [],
   "source": [
    "import tensorflow as tf\n",
    "from tensorflow.keras import layers\n",
    "model = tf.keras.models.load_model('/work/users/d/d/ddinh/aaco/models/mlp.keras')\n",
    "# model = tf.keras.models.load_model('/work/users/d/d/ddinh/aaco/models/mlp_uncertainty.keras')\n",
    "# class L2NormalizeLayer(layers.Layer):\n",
    "#     def __init__(self, **kwargs):\n",
    "#         super(L2NormalizeLayer, self).__init__(**kwargs)\n",
    "\n",
    "#     def call(self, inputs, mask=None, training=False):\n",
    "#         return tf.nn.l2_normalize(inputs, axis=1)\n",
    "\n",
    "#     def get_config(self):\n",
    "#         base_config = super(L2NormalizeLayer, self).get_config()\n",
    "#         return base_config\n",
    "    \n",
    "# model= tf.keras.models.load_model('/work/users/d/d/ddinh/aaco/models/embedding_classification_model.h5',\n",
    "#                                     custom_objects={'L2NormalizeLayer': L2NormalizeLayer})"
   ]
  },
  {
   "cell_type": "code",
   "execution_count": 10,
   "metadata": {},
   "outputs": [
    {
     "data": {
      "text/plain": [
       "(200, 48)"
      ]
     },
     "execution_count": 10,
     "metadata": {},
     "output_type": "execute_result"
    }
   ],
   "source": [
    "merge_action.shape"
   ]
  },
  {
   "cell_type": "code",
   "execution_count": 11,
   "metadata": {},
   "outputs": [
    {
     "name": "stdout",
     "output_type": "stream",
     "text": [
      "\u001b[1m7/7\u001b[0m \u001b[32m━━━━━━━━━━━━━━━━━━━━\u001b[0m\u001b[37m\u001b[0m \u001b[1m0s\u001b[0m 3ms/step \n",
      "\u001b[1m7/7\u001b[0m \u001b[32m━━━━━━━━━━━━━━━━━━━━\u001b[0m\u001b[37m\u001b[0m \u001b[1m0s\u001b[0m 504us/step\n",
      "\u001b[1m7/7\u001b[0m \u001b[32m━━━━━━━━━━━━━━━━━━━━\u001b[0m\u001b[37m\u001b[0m \u001b[1m0s\u001b[0m 496us/step\n",
      "\u001b[1m7/7\u001b[0m \u001b[32m━━━━━━━━━━━━━━━━━━━━\u001b[0m\u001b[37m\u001b[0m \u001b[1m0s\u001b[0m 485us/step\n",
      "\u001b[1m7/7\u001b[0m \u001b[32m━━━━━━━━━━━━━━━━━━━━\u001b[0m\u001b[37m\u001b[0m \u001b[1m0s\u001b[0m 505us/step\n",
      "\u001b[1m7/7\u001b[0m \u001b[32m━━━━━━━━━━━━━━━━━━━━\u001b[0m\u001b[37m\u001b[0m \u001b[1m0s\u001b[0m 485us/step\n",
      "\u001b[1m7/7\u001b[0m \u001b[32m━━━━━━━━━━━━━━━━━━━━\u001b[0m\u001b[37m\u001b[0m \u001b[1m0s\u001b[0m 502us/step\n",
      "\u001b[1m7/7\u001b[0m \u001b[32m━━━━━━━━━━━━━━━━━━━━\u001b[0m\u001b[37m\u001b[0m \u001b[1m0s\u001b[0m 489us/step\n",
      "\u001b[1m7/7\u001b[0m \u001b[32m━━━━━━━━━━━━━━━━━━━━\u001b[0m\u001b[37m\u001b[0m \u001b[1m0s\u001b[0m 486us/step\n",
      "\u001b[1m7/7\u001b[0m \u001b[32m━━━━━━━━━━━━━━━━━━━━\u001b[0m\u001b[37m\u001b[0m \u001b[1m0s\u001b[0m 472us/step\n",
      "\u001b[1m7/7\u001b[0m \u001b[32m━━━━━━━━━━━━━━━━━━━━\u001b[0m\u001b[37m\u001b[0m \u001b[1m0s\u001b[0m 541us/step\n",
      "\u001b[1m7/7\u001b[0m \u001b[32m━━━━━━━━━━━━━━━━━━━━\u001b[0m\u001b[37m\u001b[0m \u001b[1m0s\u001b[0m 482us/step\n"
     ]
    }
   ],
   "source": [
    "num_ts = y.shape[1]\n",
    "y_pred = np.zeros(test_y.shape)\n",
    "input_eval = []\n",
    "\n",
    "for ts in range(num_ts):\n",
    "    x_input = np.zeros(test_x.shape)\n",
    "    mask_input = np.zeros(merge_action.shape)\n",
    "    \n",
    "    x_input[:,:ts+1,:] = np.copy(test_x[:,:ts+1,:])\n",
    "    for k in range(4):\n",
    "        # mask_input[:,k*ts:(k+1)*ts] = np.copy(merge_action[:,k*ts:(k+1)*ts])\n",
    "        mask_input[:,k*num_ts:k*num_ts + ts + 1] = np.copy(merge_action[:,k*num_ts:k*num_ts + ts + 1])\n",
    "    #  np.transpose(x_zero[non_zero_mask,:,:], (0, 2, 1)).reshape(-1, x_data.shape[1] * x_data.shape[2])    \n",
    "    x_input = np.transpose(x_input, (0, 2, 1)).reshape(-1, test_x.shape[1] * test_x.shape[2])\n",
    "    x_input = torch.Tensor(x_input)\n",
    "    mask_input = torch.Tensor(mask_input)\n",
    "    # mask_input = np.zeros((x_input.shape[0], 4 * num_ts))\n",
    "    x_input = np.concatenate([x_input * mask_input, np.repeat(ts, x_input.shape[0])[:, None]], axis=1)\n",
    "    \n",
    "    mask_y = np.sum(test_y[:,ts], axis=1) != 0\n",
    "    input_eval.append(x_input[mask_y])\n",
    "    \n",
    "    # per_mask_est = train_classifier_with_mask(mask_input.numpy())\n",
    "    # pred = per_mask_est.predict_proba(x_input)\n",
    "    # pred = np.array(pred)[:,0,:]\n",
    "    \n",
    "    pred = model.predict(x_input)\n",
    "    # embeddings, class_logits = model.predict(x_input, verbose=0)\n",
    "    # pred = np.argmax(class_logits, axis=-1)\n",
    "    # pred = np.eye(3)[pred]\n",
    "    y_pred[:,ts,:] = pred\n",
    "    \n",
    "input_eval = np.concatenate(input_eval, axis=0)"
   ]
  },
  {
   "cell_type": "code",
   "execution_count": 27,
   "metadata": {},
   "outputs": [
    {
     "name": "stdout",
     "output_type": "stream",
     "text": [
      "\u001b[1m47/47\u001b[0m \u001b[32m━━━━━━━━━━━━━━━━━━━━\u001b[0m\u001b[37m\u001b[0m \u001b[1m1s\u001b[0m 1ms/step - accuracy: 0.5853 - loss: 0.7378 - prc: 0.6318 - roc_auc: 0.8122   \n",
      "[0.7720655798912048, 0.5539083480834961, 0.7926434278488159, 0.5985121130943298]\n"
     ]
    }
   ],
   "source": [
    "print(model.evaluate(input_eval, test_y_ts))"
   ]
  },
  {
   "cell_type": "code",
   "execution_count": 12,
   "metadata": {},
   "outputs": [
    {
     "name": "stdout",
     "output_type": "stream",
     "text": [
      "ROC AUC: 0.7590105\n",
      "PR AUC: 0.58974403\n"
     ]
    }
   ],
   "source": [
    "def evaluate_metrics(y_pred, y_true):\n",
    "    auroc_metric = tf.keras.metrics.AUC(curve='ROC', multi_label=True, num_labels=3)\n",
    "    auprc_metric = tf.keras.metrics.AUC(curve='PR', multi_label=True, num_labels=3)\n",
    "    # auroc_metric = tf.keras.metrics.AUC(curve='ROC')\n",
    "    # auprc_metric = tf.keras.metrics.AUC(curve='PR')\n",
    "    \n",
    "    all_preds = []\n",
    "    all_labels = []\n",
    "\n",
    "    for i in range(y_pred.shape[0]):\n",
    "        for t in range(y_pred.shape[1]):  \n",
    "            if not np.all(y_true[i, t] == 0):  \n",
    "                all_preds.append(y_pred[i, t])\n",
    "                all_labels.append(y_true[i, t])\n",
    "            \n",
    "    \n",
    "    all_preds = np.array(all_preds)\n",
    "    all_labels = np.array(all_labels)\n",
    "    \n",
    "    # all_preds = np.argmax(all_preds, axis=1)\n",
    "    # all_labels = np.argmax(all_labels, axis=1)\n",
    "    \n",
    "    auroc_metric.update_state(all_labels, all_preds)\n",
    "    auprc_metric.update_state(all_labels, all_preds)\n",
    "    \n",
    "    roc_auc = auroc_metric.result().numpy()\n",
    "    pr_auc = auprc_metric.result().numpy()\n",
    "    \n",
    "    return roc_auc, pr_auc\n",
    "\n",
    "roc, pr = evaluate_metrics(y_pred, test_y)\n",
    "print('ROC AUC:', roc)\n",
    "print('PR AUC:', pr)"
   ]
  },
  {
   "cell_type": "code",
   "execution_count": 15,
   "metadata": {},
   "outputs": [],
   "source": [
    "# ROC AUC: 0.9001046\n",
    "# PR AUC: 0.7775238"
   ]
  },
  {
   "cell_type": "markdown",
   "metadata": {},
   "source": [
    "My version"
   ]
  },
  {
   "cell_type": "code",
   "execution_count": 14,
   "metadata": {},
   "outputs": [],
   "source": [
    "for i in range(test_x.shape[0]):\n",
    "    for k in range(4):\n",
    "        if test_x[i,0,k] == 0:\n",
    "            merge_action[i, k * num_ts] = 0\n",
    "            \n",
    "PET = 1\n",
    "MRI = 0.5\n",
    "\n",
    "merge_action_reshaped = []\n",
    "for ins in range(merge_action.shape[0]): \n",
    "    temp = []\n",
    "    for k in range(4):\n",
    "        temp.append(merge_action[ins,num_ts*k:num_ts*(k+1)])\n",
    "    merge_action_reshaped.append(temp)\n",
    "merge_action_reshaped = np.transpose(np.array(merge_action_reshaped), (0,2,1))"
   ]
  },
  {
   "cell_type": "code",
   "execution_count": 15,
   "metadata": {},
   "outputs": [
    {
     "name": "stdout",
     "output_type": "stream",
     "text": [
      "(200, 12)\n",
      "(200, 12)\n",
      "(200, 12)\n",
      "(200, 12)\n"
     ]
    },
    {
     "data": {
      "text/plain": [
       "4.3924999833106995"
      ]
     },
     "execution_count": 15,
     "metadata": {},
     "output_type": "execute_result"
    }
   ],
   "source": [
    "total = 0\n",
    "for i in range(4):\n",
    "    print(merge_action[:, i*num_ts:(i+1)*num_ts].shape)\n",
    "    if i <= 1:\n",
    "        total += np.mean(np.sum(merge_action[:, i*num_ts:(i+1)*num_ts], 1)) * PET\n",
    "    else:\n",
    "        total += np.mean(np.sum(merge_action[:, i*num_ts:(i+1)*num_ts], 1)) * MRI\n",
    "total"
   ]
  },
  {
   "cell_type": "code",
   "execution_count": 28,
   "metadata": {},
   "outputs": [
    {
     "data": {
      "text/plain": [
       "5.1"
      ]
     },
     "execution_count": 28,
     "metadata": {},
     "output_type": "execute_result"
    }
   ],
   "source": [
    "total = 0\n",
    "count = 0\n",
    "for j in range(merge_action.shape[0]):\n",
    "    total_temp = 0\n",
    "    \n",
    "    for i in range(4):\n",
    "        if i <= 1:\n",
    "            total_temp += np.sum(merge_action[j, i*num_ts:(i+1)*num_ts]) * PET\n",
    "        else:\n",
    "            total_temp += np.sum(merge_action[j, i*num_ts:(i+1)*num_ts]) * MRI\n",
    "            \n",
    "    total += total_temp \n",
    "total / merge_action_reshaped.shape[0] "
   ]
  },
  {
   "cell_type": "code",
   "execution_count": 29,
   "metadata": {},
   "outputs": [
    {
     "ename": "SyntaxError",
     "evalue": "invalid syntax (1867581313.py, line 1)",
     "output_type": "error",
     "traceback": [
      "\u001b[0;36m  Cell \u001b[0;32mIn[29], line 1\u001b[0;36m\u001b[0m\n\u001b[0;31m    RANDOM:\u001b[0m\n\u001b[0m            ^\u001b[0m\n\u001b[0;31mSyntaxError\u001b[0m\u001b[0;31m:\u001b[0m invalid syntax\n"
     ]
    }
   ],
   "source": [
    "RANDOM: \n",
    "ROC AUC: 0.6679639\n",
    "PR AUC: 0.4965479\n",
    "4.68\n",
    "\n",
    "\n",
    "ROC AUC: 0.7084182\n",
    "PR AUC: 0.542304\n",
    "6.2075\n",
    "\n",
    "\n",
    "ROC AUC: 0.73023814\n",
    "PR AUC: 0.5478352\n",
    "10.52\n",
    "\n",
    "ROC AUC: 0.7485943\n",
    "PR AUC: 0.57216334\n",
    "12.83\n",
    "\n",
    "\n",
    "ROC AUC: 0.73560685\n",
    "PR AUC: 0.54086417\n",
    "11.90499997138977\n",
    "\n",
    "RANDOM_ROC_AUC = [0.6679639, 0.7084182, 0.73023814, 0.7485943, 0.73560685]\n",
    "RANDOM_PR_AUC = [0.4965479, 0.542304, 0.5478352, 0.57216334, 0.54086417]\n",
    "RANDOM_COST = [4.68, 6.2075, 10.52, 12.83, 11.90499997138977]"
   ]
  },
  {
   "cell_type": "code",
   "execution_count": null,
   "metadata": {},
   "outputs": [
    {
     "ename": "SyntaxError",
     "evalue": "invalid syntax (265431121.py, line 1)",
     "output_type": "error",
     "traceback": [
      "\u001b[0;36m  Cell \u001b[0;32mIn[21], line 1\u001b[0;36m\u001b[0m\n\u001b[0;31m    ROC AUC: 0.75680137\u001b[0m\n\u001b[0m        ^\u001b[0m\n\u001b[0;31mSyntaxError\u001b[0m\u001b[0;31m:\u001b[0m invalid syntax\n"
     ]
    }
   ],
   "source": [
    "\n",
    "\n",
    "ROC AUC: 0.75680137\n",
    "PR AUC: 0.5829575\n",
    "4.485\n",
    "\n",
    "ROC AUC: 0.74492997\n",
    "PR AUC: 0.56410503\n",
    "10.5025\n",
    "\n",
    "ROC AUC: 0.7488037\n",
    "PR AUC: 0.5683787\n",
    "12.62\n",
    "\n",
    "ROC AUC: 0.7464544\n",
    "PR AUC: 0.56603134\n",
    "6.0125\n",
    "\n",
    "\n",
    "ROC AUC: 0.7404645\n",
    "PR AUC: 0.55713487\n",
    "11.645\n",
    "\n",
    "ROC_AUC = [0.75680137, 0.74492997, 0.7488037, 0.7464544, 0.7404645]\n",
    "PR_AUC = [0.5829575, 0.56410503, 0.5683787, 0.56603134, 0.55713487]\n",
    "COST = [4.485, 10.5025, 12.62, 6.0125, 11.645]"
   ]
  },
  {
   "cell_type": "code",
   "execution_count": 26,
   "metadata": {},
   "outputs": [
    {
     "data": {
      "image/png": "[encoded data removed]",
      "text/plain": [
       "<Figure size 1200x600 with 2 Axes>"
      ]
     },
     "metadata": {},
     "output_type": "display_data"
    }
   ],
   "source": [
    "RANDOM_ROC_AUC = [0.6679639, 0.7084182, 0.73023814, 0.7485943, 0.73560685]\n",
    "RANDOM_PR_AUC = [0.4965479, 0.542304, 0.5478352, 0.57216334, 0.54086417]\n",
    "RANDOM_COST = [4.68, 6.2075, 10.52, 12.83, 11.90499997138977]\n",
    "\n",
    "ROC_AUC = [0.75680137, 0.74492997, 0.7488037, 0.7464544, 0.7404645]\n",
    "PR_AUC = [0.5829575, 0.56410503, 0.5683787, 0.56603134, 0.55713487]\n",
    "COST = [4.485, 10.5025, 12.62, 6.0125, 11.645]\n",
    "\n",
    "sorted_indices = np.argsort(COST)\n",
    "sorted_COST = np.array(COST)[sorted_indices]\n",
    "sorted_ROC_AUC = np.array(ROC_AUC)[sorted_indices]\n",
    "sorted_PR_AUC = np.array(PR_AUC)[sorted_indices]\n",
    "\n",
    "sorted_random_indices = np.argsort(RANDOM_COST)\n",
    "sorted_RANDOM_COST = np.array(RANDOM_COST)[sorted_random_indices]\n",
    "sorted_RANDOM_ROC_AUC = np.array(RANDOM_ROC_AUC)[sorted_random_indices]\n",
    "sorted_RANDOM_PR_AUC = np.array(RANDOM_PR_AUC)[sorted_random_indices]\n",
    "\n",
    "plt.figure(figsize=(12, 6))\n",
    "\n",
    "# Plot ROC AUC vs COST\n",
    "plt.subplot(1, 2, 1)\n",
    "plt.plot(sorted_COST, sorted_ROC_AUC, marker='o', linestyle='-', color='b', label='AFA')\n",
    "plt.plot(sorted_RANDOM_COST, sorted_RANDOM_ROC_AUC, marker='x', linestyle='--', color='g', label='Random')\n",
    "plt.xlabel('Cost')\n",
    "plt.ylabel('ROC AUC')\n",
    "plt.title('ROC AUC vs Cost')\n",
    "plt.legend()\n",
    "plt.grid(True)\n",
    "\n",
    "# Plot PR AUC vs COST\n",
    "plt.subplot(1, 2, 2)\n",
    "plt.plot(sorted_COST, sorted_PR_AUC, marker='o', linestyle='-', color='r', label='AFA')\n",
    "plt.plot(sorted_RANDOM_COST, sorted_RANDOM_PR_AUC, marker='x', linestyle='--', color='m', label='Random')\n",
    "plt.xlabel('Cost')\n",
    "plt.ylabel('PR AUC')\n",
    "plt.title('PR AUC vs Cost')\n",
    "plt.legend()\n",
    "plt.grid(True)\n",
    "\n",
    "plt.tight_layout()\n",
    "plt.show()"
   ]
  },
  {
   "cell_type": "code",
   "execution_count": null,
   "metadata": {},
   "outputs": [],
   "source": []
  }
 ],
 "metadata": {
  "kernelspec": {
   "display_name": ".venv",
   "language": "python",
   "name": "python3"
  },
  "language_info": {
   "codemirror_mode": {
    "name": "ipython",
    "version": 3
   },
   "file_extension": ".py",
   "mimetype": "text/x-python",
   "name": "python",
   "nbconvert_exporter": "python",
   "pygments_lexer": "ipython3",
   "version": "3.11.10"
  }
 },
 "nbformat": 4,
 "nbformat_minor": 2
}
