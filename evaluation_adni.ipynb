{
 "cells": [
  {
   "cell_type": "code",
   "execution_count": 1,
   "metadata": {},
   "outputs": [
    {
     "name": "stderr",
     "output_type": "stream",
     "text": [
      "2024-11-15 17:51:30.148446: E external/local_xla/xla/stream_executor/cuda/cuda_fft.cc:485] Unable to register cuFFT factory: Attempting to register factory for plugin cuFFT when one has already been registered\n",
      "2024-11-15 17:51:30.170848: E external/local_xla/xla/stream_executor/cuda/cuda_dnn.cc:8454] Unable to register cuDNN factory: Attempting to register factory for plugin cuDNN when one has already been registered\n",
      "2024-11-15 17:51:30.177903: E external/local_xla/xla/stream_executor/cuda/cuda_blas.cc:1452] Unable to register cuBLAS factory: Attempting to register factory for plugin cuBLAS when one has already been registered\n",
      "2024-11-15 17:51:30.195632: I tensorflow/core/platform/cpu_feature_guard.cc:210] This TensorFlow binary is optimized to use available CPU instructions in performance-critical operations.\n",
      "To enable the following instructions: AVX2 AVX512F FMA, in other operations, rebuild TensorFlow with the appropriate compiler flags.\n",
      "2024-11-15 17:51:32.296276: W tensorflow/compiler/tf2tensorrt/utils/py_utils.cc:38] TF-TRT Warning: Could not find TensorRT\n"
     ]
    }
   ],
   "source": [
    "import tensorflow as tf\n",
    "import numpy as np\n",
    "%matplotlib inline\n",
    "import matplotlib.pyplot as plt\n",
    "import pickle\n",
    "import time\n",
    "from xgboost import XGBClassifier\n",
    "from xgboost import XGBRegressor\n",
    "import sys\n",
    "sys.path.append('/work/users/d/d/ddinh/aaco/src')\n",
    "from load_dataset import load_adni_data\n",
    "from sklearn.metrics import roc_auc_score, average_precision_score, precision_recall_curve\n",
    "import tensorflow as tf\n"
   ]
  },
  {
   "cell_type": "markdown",
   "metadata": {},
   "source": [
    "## Data"
   ]
  },
  {
   "cell_type": "code",
   "execution_count": 2,
   "metadata": {},
   "outputs": [],
   "source": [
    "def load_data(file_path):\n",
    "    ds = load_adni_data(file_path=file_path)\n",
    "    x = ds.x\n",
    "    y = ds.y\n",
    "    # mask_nan = np.isnan(x)\n",
    "    # x[mask_nan] = 0\n",
    "    \n",
    "    # mask_nan_y = np.isnan(y)\n",
    "    # y[mask_nan_y] = 0\n",
    "    return x, y\n",
    "\n",
    "train_x, train_y = load_data(\"/work/users/d/d/ddinh/aaco/input_data/train_data.npz\")\n",
    "val_x, val_y = load_data(\"/work/users/d/d/ddinh/aaco/input_data/val_data.npz\")\n",
    "test_x, test_y = load_data(\"/work/users/d/d/ddinh/aaco/input_data/test_data.npz\")\n",
    "\n",
    "num_ts = train_x.shape[1]"
   ]
  },
  {
   "cell_type": "code",
   "execution_count": 3,
   "metadata": {},
   "outputs": [
    {
     "data": {
      "text/plain": [
       "(642, 12, 3)"
      ]
     },
     "execution_count": 3,
     "metadata": {},
     "output_type": "execute_result"
    }
   ],
   "source": [
    "train_y.shape"
   ]
  },
  {
   "cell_type": "code",
   "execution_count": 11,
   "metadata": {},
   "outputs": [],
   "source": [
    "from cvar_sensing.encoders import prepare_input\n",
    "import torch\n",
    "y = prepare_input(torch.Tensor([range(0, train_y.shape[1])] * train_y.shape[0]), torch.Tensor(train_y))[1].numpy()\n",
    "x = prepare_input(torch.Tensor([range(0, train_x.shape[1])] * train_x.shape[0]), torch.Tensor(train_x))[1].numpy()"
   ]
  },
  {
   "cell_type": "code",
   "execution_count": null,
   "metadata": {},
   "outputs": [],
   "source": [
    "import numpy as np\n",
    "\n",
    "def forward_fill(x, y):\n",
    "    def forward_fill_single(data):\n",
    "        n, timesteps, modalities = data.shape\n",
    "        filled = data.copy()\n",
    "        for i in range(n):\n",
    "            for m in range(modalities):\n",
    "                modality_values = filled[i, :, m]\n",
    "                if np.isnan(modality_values).all():\n",
    "                    filled[i, :, m] = 0\n",
    "                else:\n",
    "                    for t in range(1, timesteps): \n",
    "                        if np.isnan(modality_values[t]):\n",
    "                            modality_values[t] = modality_values[t - 1]\n",
    "                    modality_values[np.isnan(modality_values)] = 0\n",
    "        return filled\n",
    "\n",
    "    x_filled = forward_fill_single(x)\n",
    "    y_filled = forward_fill_single(y)\n",
    "    \n",
    "    return x_filled, y_filled\n",
    "\n",
    "x_filled, y_filled = forward_fill(train_x, train_y)\n"
   ]
  },
  {
   "cell_type": "code",
   "execution_count": 21,
   "metadata": {},
   "outputs": [
    {
     "data": {
      "text/plain": [
       "array([[ 1.0726011 ,  1.8716451 , -0.16592066, -0.01738898],\n",
       "       [ 1.0726011 ,  1.8716451 , -0.46748224,  0.95662934],\n",
       "       [ 1.0726011 ,  1.8716451 , -0.3179207 , -0.01738898],\n",
       "       [ 1.0726011 ,  1.8716451 , -0.16592066, -0.01738898],\n",
       "       [ 1.0726011 ,  1.8716451 , -0.16592066, -0.01738898],\n",
       "       [ 1.0726011 ,  1.8716451 , -0.16592066, -0.01738898],\n",
       "       [ 1.0726011 ,  1.8716451 , -0.16592066, -0.01738898],\n",
       "       [ 1.0726011 ,  1.8716451 , -0.16592066, -0.01738898],\n",
       "       [ 1.0726011 ,  1.8716451 , -0.16592066, -0.01738898],\n",
       "       [ 1.0726011 ,  1.8716451 , -0.16592066, -0.01738898],\n",
       "       [ 1.0726011 ,  1.8716451 , -0.16592066, -0.01738898],\n",
       "       [ 1.0726011 ,  1.8716451 , -0.16592066, -0.01738898]],\n",
       "      dtype=float32)"
      ]
     },
     "execution_count": 21,
     "metadata": {},
     "output_type": "execute_result"
    }
   ],
   "source": [
    "x_filled[10]"
   ]
  },
  {
   "cell_type": "code",
   "execution_count": 20,
   "metadata": {},
   "outputs": [
    {
     "data": {
      "text/plain": [
       "array([[0., 1., 0.],\n",
       "       [0., 1., 0.],\n",
       "       [0., 1., 0.],\n",
       "       [0., 1., 0.],\n",
       "       [0., 1., 0.],\n",
       "       [0., 1., 0.],\n",
       "       [1., 0., 0.],\n",
       "       [1., 0., 0.],\n",
       "       [1., 0., 0.],\n",
       "       [1., 0., 0.],\n",
       "       [1., 0., 0.],\n",
       "       [1., 0., 0.]])"
      ]
     },
     "execution_count": 20,
     "metadata": {},
     "output_type": "execute_result"
    }
   ],
   "source": [
    "y_filled[10]"
   ]
  },
  {
   "cell_type": "code",
   "execution_count": 58,
   "metadata": {},
   "outputs": [
    {
     "name": "stdout",
     "output_type": "stream",
     "text": [
      "10\n",
      "32\n",
      "37\n",
      "38\n",
      "49\n",
      "49\n"
     ]
    },
    {
     "ename": "IndexError",
     "evalue": "index 12 is out of bounds for axis 1 with size 12",
     "output_type": "error",
     "traceback": [
      "\u001b[0;31m---------------------------------------------------------------------------\u001b[0m",
      "\u001b[0;31mIndexError\u001b[0m                                Traceback (most recent call last)",
      "Cell \u001b[0;32mIn[58], line 15\u001b[0m\n\u001b[1;32m     11\u001b[0m                 y_input[i, j] \u001b[38;5;241m=\u001b[39m np\u001b[38;5;241m.\u001b[39mround(y_input[i, j])\n\u001b[1;32m     13\u001b[0m     \u001b[38;5;28;01mreturn\u001b[39;00m y_input\n\u001b[0;32m---> 15\u001b[0m y \u001b[38;5;241m=\u001b[39m \u001b[43mprocess_y\u001b[49m\u001b[43m(\u001b[49m\u001b[43my\u001b[49m\u001b[43m)\u001b[49m\n",
      "Cell \u001b[0;32mIn[58], line 9\u001b[0m, in \u001b[0;36mprocess_y\u001b[0;34m(y)\u001b[0m\n\u001b[1;32m      7\u001b[0m \u001b[38;5;28;01mif\u001b[39;00m np\u001b[38;5;241m.\u001b[39many(y_input[i, j] \u001b[38;5;241m==\u001b[39m \u001b[38;5;241m0.5\u001b[39m):\n\u001b[1;32m      8\u001b[0m     \u001b[38;5;28mprint\u001b[39m(i)\n\u001b[0;32m----> 9\u001b[0m     y_input[i, j] \u001b[38;5;241m=\u001b[39m \u001b[43my_input\u001b[49m\u001b[43m[\u001b[49m\u001b[43mi\u001b[49m\u001b[43m,\u001b[49m\u001b[43m \u001b[49m\u001b[43mj\u001b[49m\u001b[43m \u001b[49m\u001b[38;5;241;43m+\u001b[39;49m\u001b[43m \u001b[49m\u001b[38;5;241;43m1\u001b[39;49m\u001b[43m]\u001b[49m\n\u001b[1;32m     10\u001b[0m \u001b[38;5;28;01melse\u001b[39;00m: \n\u001b[1;32m     11\u001b[0m     y_input[i, j] \u001b[38;5;241m=\u001b[39m np\u001b[38;5;241m.\u001b[39mround(y_input[i, j])\n",
      "\u001b[0;31mIndexError\u001b[0m: index 12 is out of bounds for axis 1 with size 12"
     ]
    }
   ],
   "source": [
    "def process_y(y):\n",
    "    y_input = np.copy(y)\n",
    "    for i in range(y_input.shape[0]):\n",
    "        for j in range(y_input.shape[1]):\n",
    "            # check if any value is 0.5, if yes then change it to later value j\n",
    "            # y has shape (n, 12, 3)\n",
    "            if np.any(y_input[i, j] == 0.5):\n",
    "                print(i)\n",
    "                y_input[i, j] = y_input[i, j + 1]\n",
    "            else: \n",
    "                y_input[i, j] = np.round(y_input[i, j])\n",
    "    \n",
    "    return y_input\n",
    "\n",
    "y = process_y(y)"
   ]
  },
  {
   "cell_type": "code",
   "execution_count": 13,
   "metadata": {},
   "outputs": [
    {
     "data": {
      "text/plain": [
       "array([[-1.5633783, -1.       , -2.3670764, -1.5125926],\n",
       "       [-1.5633783, -1.       , -2.3670764, -1.5125926],\n",
       "       [-1.5633783, -1.       , -1.5891938, -1.150082 ],\n",
       "       [-1.5633783, -1.       , -2.3670764, -1.5125926],\n",
       "       [-1.5633783, -1.       , -2.3670764, -1.5125926],\n",
       "       [-1.5633783, -1.       , -2.3670764, -1.5125926],\n",
       "       [-1.5633783, -1.       , -2.3670764, -1.5125926],\n",
       "       [-1.5633783, -1.       , -2.3670764, -1.5125923],\n",
       "       [-1.5633783, -1.       , -2.220766 , -2.309628 ],\n",
       "       [-1.5633783, -1.       , -2.3670764, -1.5125926],\n",
       "       [-1.5633783, -1.       , -2.3670764, -1.5125926],\n",
       "       [-1.5633783, -1.       , -2.3670764, -1.5125926]], dtype=float32)"
      ]
     },
     "execution_count": 13,
     "metadata": {},
     "output_type": "execute_result"
    }
   ],
   "source": [
    "x[49]"
   ]
  },
  {
   "cell_type": "code",
   "execution_count": 3,
   "metadata": {},
   "outputs": [],
   "source": [
    "def get_ts(x, y): \n",
    "    x_data = np.copy(x)\n",
    "    y_data = np.copy(y)\n",
    "    x_ts = []\n",
    "    y_ts = []\n",
    "    \n",
    "    for i in range(num_ts):\n",
    "        x_zero = np.zeros(x_data.shape)\n",
    "        x_zero[:, :i+1] = x_data[:, :i+1]\n",
    "        \n",
    "        non_zero_mask = np.sum(y_data[:,i,:], axis=1) != 0\n",
    "        x_filtered = np.transpose(x_zero[non_zero_mask,:,:], (0, 2, 1)).reshape(-1, x_data.shape[1] * x_data.shape[2])\n",
    "        x_filtered = np.concatenate([x_filtered, np.repeat(i, x_filtered.shape[0])[:, None]], axis=1)\n",
    "        x_ts.append(x_filtered)\n",
    "        y_ts.append(y_data[non_zero_mask, i, :])\n",
    "        \n",
    "    x_ts = np.concatenate(x_ts, axis=0)\n",
    "    y_ts = np.concatenate(y_ts, axis=0)\n",
    "    \n",
    "    \n",
    "    return x_ts, y_ts\n",
    "\n",
    "test_x_ts, test_y_ts = get_ts(test_x, test_y)\n"
   ]
  },
  {
   "cell_type": "code",
   "execution_count": 4,
   "metadata": {},
   "outputs": [],
   "source": [
    "train_x_ts, train_y_ts = get_ts(train_x, train_y)\n",
    "val_x_ts, val_y_ts = get_ts(val_x, val_y)\n",
    "\n",
    "train_x_ts = np.concatenate([train_x_ts, val_x_ts], axis=0)\n",
    "train_y_ts = np.concatenate([train_y_ts, val_y_ts], axis=0)"
   ]
  },
  {
   "cell_type": "code",
   "execution_count": 5,
   "metadata": {},
   "outputs": [],
   "source": [
    "# load pt file \n",
    "import torch \n",
    "path = '/work/users/d/d/ddinh/aaco/results/dataset_adni_mlp_get_zero_interpolation_lessfeatures.pt'\n",
    "data = torch.load(path)\n",
    "x = data['X']\n",
    "y = data['y']\n",
    "mask = data['mask']\n",
    "action = data['Action']"
   ]
  },
  {
   "cell_type": "code",
   "execution_count": 6,
   "metadata": {},
   "outputs": [],
   "source": [
    "merge_action = []\n",
    "count = 0\n",
    "for i in range(action.shape[0]):\n",
    "    if action[i, 0] == 1:\n",
    "        merge_action.append(action[i])\n",
    "        count += 1\n",
    "    else:\n",
    "        merge_action[count - 1] += action[i]\n",
    "merge_action = np.array(merge_action)\n",
    "merge_action = merge_action[:,:-1]"
   ]
  },
  {
   "cell_type": "code",
   "execution_count": 7,
   "metadata": {},
   "outputs": [],
   "source": [
    "import tensorflow as tf\n",
    "model = tf.keras.models.load_model('/work/users/d/d/ddinh/aaco/models/mlp.keras')"
   ]
  },
  {
   "cell_type": "code",
   "execution_count": 8,
   "metadata": {},
   "outputs": [],
   "source": [
    "def train_classifier_with_mask(mask):\n",
    "    train_X, train_Y = np.copy(train_x_ts), np.copy(train_y_ts)\n",
    "    train_X = train_X.repeat(8, 0)\n",
    "    train_Y = train_Y.repeat(8, 0)\n",
    "    mask = mask.reshape(1, -1).repeat(train_X.shape[0], 0)\n",
    "    train_X = train_X[:,:-1] * mask\n",
    "    est = XGBClassifier(n_estimators=40, gpu_id=0)\n",
    "    est.fit(train_X, train_Y)\n",
    "    return est"
   ]
  },
  {
   "cell_type": "code",
   "execution_count": 9,
   "metadata": {},
   "outputs": [
    {
     "data": {
      "text/plain": [
       "(200, 48)"
      ]
     },
     "execution_count": 9,
     "metadata": {},
     "output_type": "execute_result"
    }
   ],
   "source": [
    "merge_action.shape"
   ]
  },
  {
   "cell_type": "code",
   "execution_count": 10,
   "metadata": {},
   "outputs": [
    {
     "name": "stdout",
     "output_type": "stream",
     "text": [
      "\u001b[1m7/7\u001b[0m \u001b[32m━━━━━━━━━━━━━━━━━━━━\u001b[0m\u001b[37m\u001b[0m \u001b[1m0s\u001b[0m 5ms/step  \n",
      "\u001b[1m7/7\u001b[0m \u001b[32m━━━━━━━━━━━━━━━━━━━━\u001b[0m\u001b[37m\u001b[0m \u001b[1m0s\u001b[0m 860us/step\n",
      "\u001b[1m7/7\u001b[0m \u001b[32m━━━━━━━━━━━━━━━━━━━━\u001b[0m\u001b[37m\u001b[0m \u001b[1m0s\u001b[0m 874us/step\n",
      "\u001b[1m7/7\u001b[0m \u001b[32m━━━━━━━━━━━━━━━━━━━━\u001b[0m\u001b[37m\u001b[0m \u001b[1m0s\u001b[0m 810us/step\n",
      "\u001b[1m7/7\u001b[0m \u001b[32m━━━━━━━━━━━━━━━━━━━━\u001b[0m\u001b[37m\u001b[0m \u001b[1m0s\u001b[0m 799us/step\n",
      "\u001b[1m7/7\u001b[0m \u001b[32m━━━━━━━━━━━━━━━━━━━━\u001b[0m\u001b[37m\u001b[0m \u001b[1m0s\u001b[0m 923us/step\n",
      "\u001b[1m7/7\u001b[0m \u001b[32m━━━━━━━━━━━━━━━━━━━━\u001b[0m\u001b[37m\u001b[0m \u001b[1m0s\u001b[0m 827us/step\n",
      "\u001b[1m7/7\u001b[0m \u001b[32m━━━━━━━━━━━━━━━━━━━━\u001b[0m\u001b[37m\u001b[0m \u001b[1m0s\u001b[0m 804us/step\n",
      "\u001b[1m7/7\u001b[0m \u001b[32m━━━━━━━━━━━━━━━━━━━━\u001b[0m\u001b[37m\u001b[0m \u001b[1m0s\u001b[0m 808us/step\n",
      "\u001b[1m7/7\u001b[0m \u001b[32m━━━━━━━━━━━━━━━━━━━━\u001b[0m\u001b[37m\u001b[0m \u001b[1m0s\u001b[0m 794us/step\n",
      "\u001b[1m7/7\u001b[0m \u001b[32m━━━━━━━━━━━━━━━━━━━━\u001b[0m\u001b[37m\u001b[0m \u001b[1m0s\u001b[0m 776us/step\n",
      "\u001b[1m7/7\u001b[0m \u001b[32m━━━━━━━━━━━━━━━━━━━━\u001b[0m\u001b[37m\u001b[0m \u001b[1m0s\u001b[0m 843us/step\n"
     ]
    }
   ],
   "source": [
    "num_ts = y.shape[1]\n",
    "y_pred = np.zeros(test_y.shape)\n",
    "input_eval = []\n",
    "\n",
    "for ts in range(num_ts):\n",
    "    x_input = np.zeros(test_x.shape)\n",
    "    mask_input = np.zeros(merge_action.shape)\n",
    "    \n",
    "    x_input[:,:ts+1,:] = np.copy(test_x[:,:ts+1,:])\n",
    "    for k in range(4):\n",
    "        # mask_input[:,k*ts:(k+1)*ts] = np.copy(merge_action[:,k*ts:(k+1)*ts])\n",
    "        mask_input[:,k*num_ts:(k+1)*num_ts + ts] = np.copy(merge_action[:,k*num_ts:(k+1)*num_ts + ts])\n",
    "    #  np.transpose(x_zero[non_zero_mask,:,:], (0, 2, 1)).reshape(-1, x_data.shape[1] * x_data.shape[2])    \n",
    "    x_input = np.transpose(x_input, (0, 2, 1)).reshape(-1, test_x.shape[1] * test_x.shape[2])\n",
    "    x_input = torch.Tensor(x_input)\n",
    "    mask_input = torch.Tensor(mask_input)\n",
    "    # mask_input = np.zeros((x_input.shape[0], 4 * num_ts))\n",
    "    x_input = np.concatenate([x_input * mask_input, np.repeat(ts, x_input.shape[0])[:, None]], axis=1)\n",
    "    \n",
    "    mask_y = np.sum(test_y[:,ts], axis=1) != 0\n",
    "    input_eval.append(x_input[mask_y])\n",
    "    \n",
    "    # per_mask_est = train_classifier_with_mask(mask_input.numpy())\n",
    "    # pred = per_mask_est.predict_proba(x_input)\n",
    "    # pred = np.array(pred)[:,0,:]\n",
    "    \n",
    "    pred = model.predict(x_input)\n",
    "    y_pred[:,ts,:] = pred\n",
    "    \n",
    "input_eval = np.concatenate(input_eval, axis=0)"
   ]
  },
  {
   "cell_type": "code",
   "execution_count": 11,
   "metadata": {},
   "outputs": [
    {
     "data": {
      "text/plain": [
       "((1484, 49), (1484, 3))"
      ]
     },
     "execution_count": 11,
     "metadata": {},
     "output_type": "execute_result"
    }
   ],
   "source": [
    "input_eval.shape, test_y_ts.shape"
   ]
  },
  {
   "cell_type": "code",
   "execution_count": 12,
   "metadata": {},
   "outputs": [
    {
     "name": "stdout",
     "output_type": "stream",
     "text": [
      "\u001b[1m47/47\u001b[0m \u001b[32m━━━━━━━━━━━━━━━━━━━━\u001b[0m\u001b[37m\u001b[0m \u001b[1m1s\u001b[0m 1ms/step - accuracy: 0.5899 - loss: 0.7384 - prc: 0.6249 - roc_auc: 0.8118   \n",
      "[0.7813469171524048, 0.5633423328399658, 0.7908022999763489, 0.5855709314346313]\n"
     ]
    }
   ],
   "source": [
    "print(model.evaluate(input_eval, test_y_ts))"
   ]
  },
  {
   "cell_type": "code",
   "execution_count": 13,
   "metadata": {},
   "outputs": [
    {
     "name": "stdout",
     "output_type": "stream",
     "text": [
      "ROC AUC: 0.7485103\n",
      "PR AUC: 0.55817956\n"
     ]
    }
   ],
   "source": [
    "def evaluate_metrics(y_pred, y_true):\n",
    "    auroc_metric = tf.keras.metrics.AUC(curve='ROC', multi_label=True, num_labels=3)\n",
    "    auprc_metric = tf.keras.metrics.AUC(curve='PR', multi_label=True, num_labels=3)\n",
    "    # auroc_metric = tf.keras.metrics.AUC(curve='ROC')\n",
    "    # auprc_metric = tf.keras.metrics.AUC(curve='PR')\n",
    "    \n",
    "    all_preds = []\n",
    "    all_labels = []\n",
    "\n",
    "    for i in range(y_pred.shape[0]):\n",
    "        for t in range(y_pred.shape[1]):  \n",
    "            if not np.all(y_true[i, t] == 0):  \n",
    "                all_preds.append(y_pred[i, t])\n",
    "                all_labels.append(y_true[i, t])\n",
    "            \n",
    "    \n",
    "    all_preds = np.array(all_preds)\n",
    "    all_labels = np.array(all_labels)\n",
    "    \n",
    "    # all_preds = np.argmax(all_preds, axis=1)\n",
    "    # all_labels = np.argmax(all_labels, axis=1)\n",
    "    \n",
    "    auroc_metric.update_state(all_labels, all_preds)\n",
    "    auprc_metric.update_state(all_labels, all_preds)\n",
    "    \n",
    "    roc_auc = auroc_metric.result().numpy()\n",
    "    pr_auc = auprc_metric.result().numpy()\n",
    "    \n",
    "    return roc_auc, pr_auc\n",
    "\n",
    "roc, pr = evaluate_metrics(y_pred, test_y)\n",
    "print('ROC AUC:', roc)\n",
    "print('PR AUC:', pr)"
   ]
  },
  {
   "cell_type": "markdown",
   "metadata": {},
   "source": [
    "My version"
   ]
  },
  {
   "cell_type": "code",
   "execution_count": null,
   "metadata": {},
   "outputs": [],
   "source": [
    "test_y[6]"
   ]
  },
  {
   "cell_type": "code",
   "execution_count": null,
   "metadata": {},
   "outputs": [],
   "source": [
    "np.transpose(train_x, (0,2,1)).reshape(train_x.shape[0], -1)[:2]"
   ]
  },
  {
   "cell_type": "code",
   "execution_count": null,
   "metadata": {},
   "outputs": [],
   "source": [
    "train_x[:2]"
   ]
  },
  {
   "cell_type": "code",
   "execution_count": null,
   "metadata": {},
   "outputs": [],
   "source": [
    "dataset = load_adni_data()\n",
    "x = dataset.x\n",
    "y = dataset.y\n",
    "\n",
    "mask_nan = np.isnan(x)\n",
    "y_nan = np.isnan(y)\n",
    "\n",
    "x[mask_nan] = 0\n",
    "y[y_nan] = 0"
   ]
  },
  {
   "cell_type": "code",
   "execution_count": null,
   "metadata": {},
   "outputs": [],
   "source": [
    "# import numpy as np\n",
    "\n",
    "# # Assuming original shape of X is (n, 12, 4)\n",
    "# def create_lagged_features(X, lag=2):\n",
    "#     n, timesteps, modalities = X.shape\n",
    "#     X_lagged = []\n",
    "\n",
    "#     for t in range(lag, timesteps):\n",
    "#         # Stack current timestep with lagged timesteps for each sample\n",
    "#         features = X[:, t-lag:t+1, :].reshape(n, -1)  # Shape will be (n, (lag+1) * modalities)\n",
    "#         X_lagged.append(features)\n",
    "    \n",
    "#     return np.concatenate(X_lagged, axis=0)  # Shape will be ((n * (timesteps - lag)), (lag+1) * modalities)\n",
    "\n",
    "# # Generate lagged features\n",
    "# lag = 2\n",
    "# x_lagged = create_lagged_features(x, lag=lag)\n",
    "\n",
    "# # Reshape targets accordingly to match the samples we have\n",
    "# y_lagged = y[:, lag:].reshape(-1, 3)  # Remove initial timesteps for which we lack lag data\n",
    "# y_lagged = np.argmax(y_lagged, axis=-1)  # Convert to class labels\n"
   ]
  },
  {
   "cell_type": "code",
   "execution_count": null,
   "metadata": {},
   "outputs": [],
   "source": [
    "x_all = []\n",
    "for item in x:\n",
    "    x_all.append(item.flatten('F'))\n",
    "x_all = np.array(x_all)"
   ]
  },
  {
   "cell_type": "code",
   "execution_count": null,
   "metadata": {},
   "outputs": [],
   "source": [
    "# split dataset into train and test sets 80/20 with random seed 42\n",
    "from sklearn.model_selection import train_test_split\n",
    "x_train, x_val, y_train, y_val = train_test_split(x_all, y, test_size=0.2, random_state=42)"
   ]
  },
  {
   "cell_type": "code",
   "execution_count": null,
   "metadata": {},
   "outputs": [],
   "source": [
    "# load pt file \n",
    "import torch \n",
    "path = '/work/users/d/d/ddinh/aaco/results/dataset_adni_rollout_different_masking_applyin_mask_generator_more_features.pt'\n",
    "data = torch.load(path)\n",
    "x = data['X']\n",
    "y = data['y']\n",
    "mask = data['mask']\n",
    "action = data['Action']"
   ]
  },
  {
   "cell_type": "code",
   "execution_count": null,
   "metadata": {},
   "outputs": [],
   "source": [
    "merge_action = []\n",
    "count = 0\n",
    "for i in range(action.shape[0]):\n",
    "    if action[i, 0] == 1:\n",
    "        merge_action.append(action[i])\n",
    "        count += 1\n",
    "    else:\n",
    "        merge_action[count - 1] += action[i]\n",
    "merge_action = np.array(merge_action)\n",
    "merge_action = merge_action[:,:-1]"
   ]
  },
  {
   "cell_type": "code",
   "execution_count": null,
   "metadata": {},
   "outputs": [],
   "source": [
    "merge_action.shape"
   ]
  },
  {
   "cell_type": "code",
   "execution_count": null,
   "metadata": {},
   "outputs": [],
   "source": [
    "model = XGBClassifier()\n",
    "model.load_model('/work/users/d/d/ddinh/aaco/models/adni_different_masking.model')"
   ]
  },
  {
   "cell_type": "code",
   "execution_count": null,
   "metadata": {},
   "outputs": [],
   "source": [
    "plt.scatter(range(len(model.feature_importances_)), model.feature_importances_)"
   ]
  },
  {
   "cell_type": "code",
   "execution_count": null,
   "metadata": {},
   "outputs": [],
   "source": [
    "x_val.shape"
   ]
  },
  {
   "cell_type": "code",
   "execution_count": null,
   "metadata": {},
   "outputs": [],
   "source": [
    "num_ts = y.shape[1]\n",
    "y_pred = np.zeros(y_val.shape)\n",
    "for ts in range(num_ts):\n",
    "    x_input = np.zeros(x_val.shape)\n",
    "    mask_input = np.zeros(merge_action.shape)\n",
    "    \n",
    "    for k in range(4):\n",
    "        x_input[:,k*ts:(k+1)*ts] = np.copy(x_val[:,k*ts:(k+1)*ts])\n",
    "        mask_input[:,k*ts:(k+1)*ts] = np.copy(merge_action[:,k*ts:(k+1)*ts])\n",
    "    \n",
    "    x_input = torch.Tensor(x_input)\n",
    "    mask_input = torch.Tensor(mask_input)\n",
    "    pred = model.predict_proba(torch.cat([x_input * mask_input, mask_input], -1))\n",
    "    y_pred[:,ts,:] = pred"
   ]
  },
  {
   "cell_type": "code",
   "execution_count": null,
   "metadata": {},
   "outputs": [],
   "source": [
    "y_pred.shape"
   ]
  },
  {
   "cell_type": "code",
   "execution_count": null,
   "metadata": {},
   "outputs": [],
   "source": [
    "np.all(np.array([1,0,0]) == 0)"
   ]
  },
  {
   "cell_type": "code",
   "execution_count": null,
   "metadata": {},
   "outputs": [],
   "source": [
    "def evaluate_metrics(y_pred, y_true):\n",
    "    auroc_metric = tf.keras.metrics.AUC(curve='ROC')\n",
    "    auprc_metric = tf.keras.metrics.AUC(curve='PR')\n",
    "    \n",
    "    all_preds = []\n",
    "    all_labels = []\n",
    "\n",
    "    for i in range(y_pred.shape[0]):\n",
    "        for t in range(y_pred.shape[1]):  \n",
    "            if not np.all(y_true[i, t] == 0):  \n",
    "                all_preds.append(y_pred[i, t])\n",
    "                all_labels.append(y_true[i, t])\n",
    "            \n",
    "    \n",
    "    all_preds = np.array(all_preds)\n",
    "    all_labels = np.array(all_labels)\n",
    "    \n",
    "    auroc_metric.update_state(all_labels, all_preds)\n",
    "    auprc_metric.update_state(all_labels, all_preds)\n",
    "    roc_auc = auroc_metric.result().numpy()\n",
    "    pr_auc = auprc_metric.result().numpy()\n",
    "    \n",
    "    return roc_auc, pr_auc\n",
    "\n",
    "roc, pr = evaluate_metrics(y_pred, y_val)\n",
    "print('ROC AUC:', roc)\n",
    "print('PR AUC:', pr)"
   ]
  },
  {
   "cell_type": "code",
   "execution_count": 14,
   "metadata": {},
   "outputs": [
    {
     "ename": "AxisError",
     "evalue": "axis 2 is out of bounds for array of dimension 2",
     "output_type": "error",
     "traceback": [
      "\u001b[0;31m---------------------------------------------------------------------------\u001b[0m",
      "\u001b[0;31mAxisError\u001b[0m                                 Traceback (most recent call last)",
      "Cell \u001b[0;32mIn[14], line 4\u001b[0m\n\u001b[1;32m      1\u001b[0m PET \u001b[38;5;241m=\u001b[39m \u001b[38;5;241m1\u001b[39m\n\u001b[1;32m      2\u001b[0m MRI \u001b[38;5;241m=\u001b[39m \u001b[38;5;241m0.5\u001b[39m\n\u001b[0;32m----> 4\u001b[0m merge_action_reshaped \u001b[38;5;241m=\u001b[39m \u001b[43mnp\u001b[49m\u001b[38;5;241;43m.\u001b[39;49m\u001b[43mconcatenate\u001b[49m\u001b[43m(\u001b[49m\u001b[43m[\u001b[49m\u001b[43mmerge_action\u001b[49m\u001b[43m[\u001b[49m\u001b[43m:\u001b[49m\u001b[43m,\u001b[49m\u001b[43mnum_ts\u001b[49m\u001b[38;5;241;43m*\u001b[39;49m\u001b[43mk\u001b[49m\u001b[43m:\u001b[49m\u001b[43mnum_ts\u001b[49m\u001b[38;5;241;43m*\u001b[39;49m\u001b[43m(\u001b[49m\u001b[43mk\u001b[49m\u001b[38;5;241;43m+\u001b[39;49m\u001b[38;5;241;43m1\u001b[39;49m\u001b[43m)\u001b[49m\u001b[43m]\u001b[49m\u001b[43m \u001b[49m\u001b[38;5;28;43;01mfor\u001b[39;49;00m\u001b[43m \u001b[49m\u001b[43mk\u001b[49m\u001b[43m \u001b[49m\u001b[38;5;129;43;01min\u001b[39;49;00m\u001b[43m \u001b[49m\u001b[38;5;28;43mrange\u001b[39;49m\u001b[43m(\u001b[49m\u001b[38;5;241;43m4\u001b[39;49m\u001b[43m)\u001b[49m\u001b[43m]\u001b[49m\u001b[43m,\u001b[49m\u001b[43m \u001b[49m\u001b[43maxis\u001b[49m\u001b[38;5;241;43m=\u001b[39;49m\u001b[38;5;241;43m2\u001b[39;49m\u001b[43m)\u001b[49m\n",
      "\u001b[0;31mAxisError\u001b[0m: axis 2 is out of bounds for array of dimension 2"
     ]
    }
   ],
   "source": [
    "PET = 1\n",
    "MRI = 0.5\n",
    "\n",
    "merge_action_reshaped = np.concatenate([merge_action[:,num_ts*k:num_ts*(k+1)] for k in range(4)], axis=2)"
   ]
  },
  {
   "cell_type": "code",
   "execution_count": 15,
   "metadata": {},
   "outputs": [],
   "source": [
    "merge_action_reshaped = []\n",
    "for ins in range(merge_action.shape[0]): \n",
    "    temp = []\n",
    "    for k in range(4):\n",
    "        temp.append(merge_action[ins,num_ts*k:num_ts*(k+1)])\n",
    "    merge_action_reshaped.append(temp)\n",
    "merge_action_reshaped = np.transpose(np.array(merge_action_reshaped), (0,2,1))"
   ]
  },
  {
   "cell_type": "code",
   "execution_count": 16,
   "metadata": {},
   "outputs": [
    {
     "data": {
      "text/plain": [
       "(200, 12, 4)"
      ]
     },
     "execution_count": 16,
     "metadata": {},
     "output_type": "execute_result"
    }
   ],
   "source": [
    "merge_action_reshaped.shape"
   ]
  },
  {
   "cell_type": "code",
   "execution_count": 17,
   "metadata": {},
   "outputs": [
    {
     "name": "stdout",
     "output_type": "stream",
     "text": [
      "(200, 12)\n",
      "(200, 12)\n",
      "(200, 12)\n",
      "(200, 12)\n"
     ]
    },
    {
     "data": {
      "text/plain": [
       "6.09000027179718"
      ]
     },
     "execution_count": 17,
     "metadata": {},
     "output_type": "execute_result"
    }
   ],
   "source": [
    "total = 0\n",
    "for i in range(4):\n",
    "    print(merge_action[:, i*num_ts:(i+1)*num_ts].shape)\n",
    "    if i <= 1:\n",
    "        total += np.mean(np.sum(merge_action[:, i*num_ts:(i+1)*num_ts], 1)) * PET\n",
    "    else:\n",
    "        total += np.mean(np.sum(merge_action[:, i*num_ts:(i+1)*num_ts], 1)) * MRI\n",
    "total"
   ]
  },
  {
   "cell_type": "code",
   "execution_count": 18,
   "metadata": {},
   "outputs": [
    {
     "data": {
      "text/plain": [
       "6.09"
      ]
     },
     "execution_count": 18,
     "metadata": {},
     "output_type": "execute_result"
    }
   ],
   "source": [
    "total = 0\n",
    "count = 0\n",
    "for j in range(merge_action.shape[0]):\n",
    "    total_temp = 0\n",
    "    \n",
    "    for i in range(4):\n",
    "        if i <= 1:\n",
    "            total_temp += np.sum(merge_action[j, i*num_ts:(i+1)*num_ts]) * PET\n",
    "        else:\n",
    "            total_temp += np.sum(merge_action[j, i*num_ts:(i+1)*num_ts]) * MRI\n",
    "            \n",
    "    total += total_temp \n",
    "total / merge_action_reshaped.shape[0] "
   ]
  },
  {
   "cell_type": "code",
   "execution_count": null,
   "metadata": {},
   "outputs": [],
   "source": []
  }
 ],
 "metadata": {
  "kernelspec": {
   "display_name": ".venv",
   "language": "python",
   "name": "python3"
  },
  "language_info": {
   "codemirror_mode": {
    "name": "ipython",
    "version": 3
   },
   "file_extension": ".py",
   "mimetype": "text/x-python",
   "name": "python",
   "nbconvert_exporter": "python",
   "pygments_lexer": "ipython3",
   "version": "3.11.9"
  }
 },
 "nbformat": 4,
 "nbformat_minor": 2
}
