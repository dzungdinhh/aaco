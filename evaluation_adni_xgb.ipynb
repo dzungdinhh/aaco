{
 "cells": [
  {
   "cell_type": "code",
   "execution_count": 1,
   "metadata": {},
   "outputs": [
    {
     "name": "stderr",
     "output_type": "stream",
     "text": [
      "2024-11-11 10:55:02.290150: E external/local_xla/xla/stream_executor/cuda/cuda_fft.cc:485] Unable to register cuFFT factory: Attempting to register factory for plugin cuFFT when one has already been registered\n",
      "2024-11-11 10:55:02.314106: E external/local_xla/xla/stream_executor/cuda/cuda_dnn.cc:8454] Unable to register cuDNN factory: Attempting to register factory for plugin cuDNN when one has already been registered\n",
      "2024-11-11 10:55:02.321777: E external/local_xla/xla/stream_executor/cuda/cuda_blas.cc:1452] Unable to register cuBLAS factory: Attempting to register factory for plugin cuBLAS when one has already been registered\n",
      "2024-11-11 10:55:02.341576: I tensorflow/core/platform/cpu_feature_guard.cc:210] This TensorFlow binary is optimized to use available CPU instructions in performance-critical operations.\n",
      "To enable the following instructions: AVX2 AVX512F FMA, in other operations, rebuild TensorFlow with the appropriate compiler flags.\n",
      "2024-11-11 10:55:05.152587: W tensorflow/compiler/tf2tensorrt/utils/py_utils.cc:38] TF-TRT Warning: Could not find TensorRT\n"
     ]
    }
   ],
   "source": [
    "import tensorflow as tf\n",
    "import numpy as np\n",
    "%matplotlib inline\n",
    "import matplotlib.pyplot as plt\n",
    "import pickle\n",
    "import time\n",
    "from xgboost import XGBClassifier\n",
    "from xgboost import XGBRegressor\n",
    "import sys\n",
    "sys.path.append('/work/users/d/d/ddinh/aaco/src')\n",
    "from load_dataset import load_adni_data\n",
    "from sklearn.metrics import roc_auc_score, average_precision_score, precision_recall_curve\n",
    "import tensorflow as tf\n"
   ]
  },
  {
   "cell_type": "markdown",
   "metadata": {},
   "source": [
    "## Data"
   ]
  },
  {
   "cell_type": "code",
   "execution_count": 2,
   "metadata": {},
   "outputs": [],
   "source": [
    "def load_data(file_path):\n",
    "    ds = load_adni_data(file_path=file_path)\n",
    "    x = ds.x\n",
    "    y = ds.y\n",
    "    mask_nan = np.isnan(x)\n",
    "    x[mask_nan] = 0\n",
    "    \n",
    "    mask_nan_y = np.isnan(y)\n",
    "    y[mask_nan_y] = 0\n",
    "    return x, y\n",
    "\n",
    "train_x, train_y = load_data(\"/work/users/d/d/ddinh/aaco/input_data/train_data.npz\")\n",
    "val_x, val_y = load_data(\"/work/users/d/d/ddinh/aaco/input_data/val_data.npz\")\n",
    "test_x, test_y = load_data(\"/work/users/d/d/ddinh/aaco/input_data/test_data.npz\")\n",
    "\n",
    "num_ts = train_x.shape[1]"
   ]
  },
  {
   "cell_type": "code",
   "execution_count": null,
   "metadata": {},
   "outputs": [],
   "source": [
    "def get_ts(x, y): \n",
    "    x_data = np.copy(x)\n",
    "    y_data = np.copy(y)\n",
    "    x_ts = []\n",
    "    y_ts = []\n",
    "    \n",
    "    for i in range(num_ts):\n",
    "        x_zero = np.zeros(x_data.shape)\n",
    "        x_zero[:, :i+1] = x_data[:, :i+1]\n",
    "        \n",
    "        non_zero_mask = np.sum(y_data[:,i,:], axis=1) != 0\n",
    "        x_filtered = np.transpose(x_zero[non_zero_mask,:,:], (0, 2, 1)).reshape(-1, x_data.shape[1] * x_data.shape[2])\n",
    "        x_filtered = np.concatenate([x_filtered, np.repeat(i, x_filtered.shape[0])[:, None]], axis=1)\n",
    "        x_ts.append(x_filtered)\n",
    "        y_ts.append(y_data[non_zero_mask, i, :])\n",
    "        \n",
    "    x_ts = np.concatenate(x_ts, axis=0)\n",
    "    y_ts = np.concatenate(y_ts, axis=0)\n",
    "    \n",
    "    \n",
    "    return x_ts, y_ts\n",
    "\n",
    "test_x_ts, test_y_ts = get_ts(test_x, test_y)\n"
   ]
  },
  {
   "cell_type": "code",
   "execution_count": 4,
   "metadata": {},
   "outputs": [],
   "source": [
    "train_x_ts, train_y_ts = get_ts(train_x, train_y)\n",
    "val_x_ts, val_y_ts = get_ts(val_x, val_y)\n",
    "\n",
    "train_x_ts = np.concatenate([train_x_ts, val_x_ts], axis=0)\n",
    "train_y_ts = np.concatenate([train_y_ts, val_y_ts], axis=0)"
   ]
  },
  {
   "cell_type": "code",
   "execution_count": 5,
   "metadata": {},
   "outputs": [],
   "source": [
    "# load pt file \n",
    "import torch \n",
    "path = '/work/users/d/d/ddinh/aaco/results/dataset_adni_xgb_ts.pt'\n",
    "data = torch.load(path)\n",
    "x = data['X']\n",
    "y = data['y']\n",
    "mask = data['mask']\n",
    "action = data['Action']"
   ]
  },
  {
   "cell_type": "code",
   "execution_count": 6,
   "metadata": {},
   "outputs": [],
   "source": [
    "merge_action = []\n",
    "count = 0\n",
    "for i in range(action.shape[0]):\n",
    "    if action[i, 0] == 1:\n",
    "        merge_action.append(action[i])\n",
    "        count += 1\n",
    "    else:\n",
    "        merge_action[count - 1] += action[i]\n",
    "merge_action = np.array(merge_action)\n",
    "merge_action = merge_action[:,:-1]"
   ]
  },
  {
   "cell_type": "code",
   "execution_count": 7,
   "metadata": {},
   "outputs": [],
   "source": [
    "classifiers =[]\n",
    "for i in range(12):\n",
    "    est = XGBClassifier(n_estimators=150, device='gpu')\n",
    "    est.load_model(f\"/work/users/d/d/ddinh/aaco/models/xgb_{i}.json\")\n",
    "    classifiers.append(est)"
   ]
  },
  {
   "cell_type": "code",
   "execution_count": 8,
   "metadata": {},
   "outputs": [],
   "source": [
    "def train_classifier_with_mask(mask):\n",
    "    train_X, train_Y = np.copy(train_x_ts), np.copy(train_y_ts)\n",
    "    train_X = train_X.repeat(8, 0)\n",
    "    train_Y = train_Y.repeat(8, 0)\n",
    "    mask = mask.reshape(1, -1).repeat(train_X.shape[0], 0)\n",
    "    train_X = train_X[:,:-1] * mask\n",
    "    est = XGBClassifier(n_estimators=40, gpu_id=0)\n",
    "    est.fit(train_X, train_Y)\n",
    "    return est"
   ]
  },
  {
   "cell_type": "code",
   "execution_count": 55,
   "metadata": {},
   "outputs": [],
   "source": [
    "\n",
    "num_ts = y.shape[1]\n",
    "y_pred = np.zeros(test_y.shape)\n",
    "input_eval = []\n",
    "\n",
    "for ts in range(num_ts):\n",
    "    x_input = np.zeros(test_x.shape)\n",
    "    mask_input = np.zeros(merge_action.shape)\n",
    "    \n",
    "    x_input[:,:ts+1,:] = np.copy(test_x[:,:ts+1,:])\n",
    "    for k in range(4):\n",
    "        mask_input[:,k*num_ts:(k+1)*num_ts + ts] = np.copy(merge_action[:,k*num_ts:(k+1)*num_ts + ts])\n",
    "    #  np.transpose(x_zero[non_zero_mask,:,:], (0, 2, 1)).reshape(-1, x_data.shape[1] * x_data.shape[2])    \n",
    "    \n",
    "    x_input = np.transpose(x_input, (0, 2, 1)).reshape(-1, test_x.shape[1] * test_x.shape[2])\n",
    "    x_input = torch.Tensor(x_input)\n",
    "    mask_input = torch.Tensor(mask_input)\n",
    "    x_input = np.concatenate([x_input * mask_input, np.repeat(ts, x_input.shape[0])[:, None]], axis=1)\n",
    "    \n",
    "    mask_y = np.sum(test_y[:,ts], axis=1) != 0\n",
    "    input_eval.append(x_input[mask_y])\n",
    "    # per_mask_est = train_classifier_with_mask(mask_input.numpy())\n",
    "    # pred = per_mask_est.predict_proba(x_input)\n",
    "    # pred = np.array(pred)[:,0,:]\n",
    "    pred = classifiers[ts].predict_proba(x_input[:,:-1])\n",
    "    # pred = model.predict(x_input)\n",
    "    y_pred[:,ts,:] = pred\n",
    "    \n",
    "input_eval = np.concatenate(input_eval, axis=0)"
   ]
  },
  {
   "cell_type": "code",
   "execution_count": 56,
   "metadata": {},
   "outputs": [
    {
     "data": {
      "text/plain": [
       "((1484, 49), (1484, 3))"
      ]
     },
     "execution_count": 56,
     "metadata": {},
     "output_type": "execute_result"
    }
   ],
   "source": [
    "input_eval.shape, test_y_ts.shape"
   ]
  },
  {
   "cell_type": "code",
   "execution_count": 57,
   "metadata": {},
   "outputs": [
    {
     "name": "stdout",
     "output_type": "stream",
     "text": [
      "ROC AUC: 0.7116809\n",
      "PR AUC: 0.5130516\n"
     ]
    }
   ],
   "source": [
    "def evaluate_metrics(y_pred, y_true):\n",
    "    auroc_metric = tf.keras.metrics.AUC(curve='ROC', multi_label=True, num_labels=3)\n",
    "    auprc_metric = tf.keras.metrics.AUC(curve='PR', multi_label=True, num_labels=3)\n",
    "    # auroc_metric = tf.keras.metrics.AUC(curve='ROC', multi_label=True, num_labels=3)\n",
    "    # auprc_metric = tf.keras.metrics.AUC(curve='PR', multi_label=True, num_labels=3)\n",
    "    all_preds = []\n",
    "    all_labels = []\n",
    "\n",
    "    total_roc = 0\n",
    "    total_pr = 0\n",
    "    count = 0\n",
    "    for i in range(y_pred.shape[0]):\n",
    "        for t in range(y_pred.shape[1]):  \n",
    "            if not np.all(y_true[i, t] == 0):  \n",
    "                all_preds.append(y_pred[i, t])\n",
    "                all_labels.append(y_true[i, t])\n",
    "            \n",
    "    \n",
    "    all_preds = np.array(all_preds)\n",
    "    all_labels = np.array(all_labels)\n",
    "    # print(all_labels.shape)\n",
    "    auroc_metric.update_state(all_labels, all_preds)\n",
    "    auprc_metric.update_state(all_labels, all_preds)\n",
    "    \n",
    "    roc_auc = auroc_metric.result().numpy()\n",
    "    pr_auc = auprc_metric.result().numpy()\n",
    "    \n",
    "    return roc_auc, pr_auc\n",
    "\n",
    "roc, pr = evaluate_metrics(y_pred, test_y)\n",
    "print('ROC AUC:', roc)\n",
    "print('PR AUC:', pr)"
   ]
  },
  {
   "cell_type": "markdown",
   "metadata": {},
   "source": [
    "My version"
   ]
  },
  {
   "cell_type": "code",
   "execution_count": 22,
   "metadata": {},
   "outputs": [
    {
     "data": {
      "text/plain": [
       "array([[0., 1., 0.],\n",
       "       [0., 1., 0.],\n",
       "       [0., 1., 0.],\n",
       "       [0., 1., 0.],\n",
       "       [0., 1., 0.],\n",
       "       [0., 1., 0.],\n",
       "       [0., 1., 0.],\n",
       "       [0., 0., 0.],\n",
       "       [0., 1., 0.],\n",
       "       [0., 0., 0.],\n",
       "       [0., 0., 0.],\n",
       "       [0., 0., 0.]])"
      ]
     },
     "execution_count": 22,
     "metadata": {},
     "output_type": "execute_result"
    }
   ],
   "source": [
    "test_y[6]"
   ]
  },
  {
   "cell_type": "code",
   "execution_count": 32,
   "metadata": {},
   "outputs": [
    {
     "data": {
      "text/plain": [
       "array([[ 0.946343  ,  0.75595796,  0.39508277,  0.24957375,  0.7209328 ,\n",
       "         0.13966939, -0.3207443 ,  0.        ,  0.        ,  0.        ,\n",
       "         0.        ,  0.        , -0.58122814, -0.58122814, -0.58122814,\n",
       "        -0.58122814, -0.58122814, -0.58122814, -0.58122814,  0.        ,\n",
       "         0.        ,  0.        ,  0.        ,  0.        ,  0.32096717,\n",
       "         0.48678538,  0.06086014,  0.41200462,  0.42013296, -0.06269069,\n",
       "         0.02428259,  0.        ,  0.        ,  0.        ,  0.        ,\n",
       "         0.        ,  0.55139863,  1.353316  ,  0.9956877 ,  0.4879288 ,\n",
       "         0.19132923, -0.0686531 ,  0.6319566 ,  0.        ,  0.        ,\n",
       "         0.        ,  0.        ,  0.        ],\n",
       "       [-0.44764617, -0.44764617, -0.44764617, -0.44764617, -0.17896959,\n",
       "         0.        , -0.17896959,  0.        , -0.17896959,  0.        ,\n",
       "         0.        ,  0.        , -1.185776  , -1.185776  , -1.185776  ,\n",
       "        -1.185776  , -1.2082325 ,  0.        , -1.2082325 ,  0.        ,\n",
       "        -1.181443  ,  0.        ,  0.        ,  0.        , -0.07325754,\n",
       "         0.0055874 ,  0.02997243,  0.02997243, -0.4447229 ,  0.        ,\n",
       "        -0.4447229 ,  0.        , -0.4447229 ,  0.        ,  0.        ,\n",
       "         0.        ,  0.        ,  0.        ,  0.        ,  0.        ,\n",
       "         0.        ,  0.        ,  0.        ,  0.        ,  0.        ,\n",
       "         0.        ,  0.        ,  0.        ]], dtype=float32)"
      ]
     },
     "execution_count": 32,
     "metadata": {},
     "output_type": "execute_result"
    }
   ],
   "source": [
    "np.transpose(train_x, (0,2,1)).reshape(train_x.shape[0], -1)[:2]"
   ]
  },
  {
   "cell_type": "code",
   "execution_count": 33,
   "metadata": {},
   "outputs": [
    {
     "data": {
      "text/plain": [
       "array([[[ 0.946343  , -0.58122814,  0.32096717,  0.55139863],\n",
       "        [ 0.75595796, -0.58122814,  0.48678538,  1.353316  ],\n",
       "        [ 0.39508277, -0.58122814,  0.06086014,  0.9956877 ],\n",
       "        [ 0.24957375, -0.58122814,  0.41200462,  0.4879288 ],\n",
       "        [ 0.7209328 , -0.58122814,  0.42013296,  0.19132923],\n",
       "        [ 0.13966939, -0.58122814, -0.06269069, -0.0686531 ],\n",
       "        [-0.3207443 , -0.58122814,  0.02428259,  0.6319566 ],\n",
       "        [ 0.        ,  0.        ,  0.        ,  0.        ],\n",
       "        [ 0.        ,  0.        ,  0.        ,  0.        ],\n",
       "        [ 0.        ,  0.        ,  0.        ,  0.        ],\n",
       "        [ 0.        ,  0.        ,  0.        ,  0.        ],\n",
       "        [ 0.        ,  0.        ,  0.        ,  0.        ]],\n",
       "\n",
       "       [[-0.44764617, -1.185776  , -0.07325754,  0.        ],\n",
       "        [-0.44764617, -1.185776  ,  0.0055874 ,  0.        ],\n",
       "        [-0.44764617, -1.185776  ,  0.02997243,  0.        ],\n",
       "        [-0.44764617, -1.185776  ,  0.02997243,  0.        ],\n",
       "        [-0.17896959, -1.2082325 , -0.4447229 ,  0.        ],\n",
       "        [ 0.        ,  0.        ,  0.        ,  0.        ],\n",
       "        [-0.17896959, -1.2082325 , -0.4447229 ,  0.        ],\n",
       "        [ 0.        ,  0.        ,  0.        ,  0.        ],\n",
       "        [-0.17896959, -1.181443  , -0.4447229 ,  0.        ],\n",
       "        [ 0.        ,  0.        ,  0.        ,  0.        ],\n",
       "        [ 0.        ,  0.        ,  0.        ,  0.        ],\n",
       "        [ 0.        ,  0.        ,  0.        ,  0.        ]]],\n",
       "      dtype=float32)"
      ]
     },
     "execution_count": 33,
     "metadata": {},
     "output_type": "execute_result"
    }
   ],
   "source": [
    "train_x[:2]"
   ]
  },
  {
   "cell_type": "code",
   "execution_count": 2,
   "metadata": {},
   "outputs": [],
   "source": [
    "dataset = load_adni_data()\n",
    "x = dataset.x\n",
    "y = dataset.y\n",
    "\n",
    "mask_nan = np.isnan(x)\n",
    "y_nan = np.isnan(y)\n",
    "\n",
    "x[mask_nan] = 0\n",
    "y[y_nan] = 0"
   ]
  },
  {
   "cell_type": "code",
   "execution_count": 3,
   "metadata": {},
   "outputs": [],
   "source": [
    "# import numpy as np\n",
    "\n",
    "# # Assuming original shape of X is (n, 12, 4)\n",
    "# def create_lagged_features(X, lag=2):\n",
    "#     n, timesteps, modalities = X.shape\n",
    "#     X_lagged = []\n",
    "\n",
    "#     for t in range(lag, timesteps):\n",
    "#         # Stack current timestep with lagged timesteps for each sample\n",
    "#         features = X[:, t-lag:t+1, :].reshape(n, -1)  # Shape will be (n, (lag+1) * modalities)\n",
    "#         X_lagged.append(features)\n",
    "    \n",
    "#     return np.concatenate(X_lagged, axis=0)  # Shape will be ((n * (timesteps - lag)), (lag+1) * modalities)\n",
    "\n",
    "# # Generate lagged features\n",
    "# lag = 2\n",
    "# x_lagged = create_lagged_features(x, lag=lag)\n",
    "\n",
    "# # Reshape targets accordingly to match the samples we have\n",
    "# y_lagged = y[:, lag:].reshape(-1, 3)  # Remove initial timesteps for which we lack lag data\n",
    "# y_lagged = np.argmax(y_lagged, axis=-1)  # Convert to class labels\n"
   ]
  },
  {
   "cell_type": "code",
   "execution_count": 4,
   "metadata": {},
   "outputs": [],
   "source": [
    "x_all = []\n",
    "for item in x:\n",
    "    x_all.append(item.flatten('F'))\n",
    "x_all = np.array(x_all)"
   ]
  },
  {
   "cell_type": "code",
   "execution_count": 5,
   "metadata": {},
   "outputs": [],
   "source": [
    "# split dataset into train and test sets 80/20 with random seed 42\n",
    "from sklearn.model_selection import train_test_split\n",
    "x_train, x_val, y_train, y_val = train_test_split(x_all, y, test_size=0.2, random_state=42)"
   ]
  },
  {
   "cell_type": "code",
   "execution_count": 6,
   "metadata": {},
   "outputs": [],
   "source": [
    "# load pt file \n",
    "import torch \n",
    "path = '/work/users/d/d/ddinh/aaco/results/dataset_adni_rollout_different_masking_applyin_mask_generator_more_features.pt'\n",
    "data = torch.load(path)\n",
    "x = data['X']\n",
    "y = data['y']\n",
    "mask = data['mask']\n",
    "action = data['Action']"
   ]
  },
  {
   "cell_type": "code",
   "execution_count": 7,
   "metadata": {},
   "outputs": [],
   "source": [
    "merge_action = []\n",
    "count = 0\n",
    "for i in range(action.shape[0]):\n",
    "    if action[i, 0] == 1:\n",
    "        merge_action.append(action[i])\n",
    "        count += 1\n",
    "    else:\n",
    "        merge_action[count - 1] += action[i]\n",
    "merge_action = np.array(merge_action)\n",
    "merge_action = merge_action[:,:-1]"
   ]
  },
  {
   "cell_type": "code",
   "execution_count": 8,
   "metadata": {},
   "outputs": [
    {
     "data": {
      "text/plain": [
       "(201, 48)"
      ]
     },
     "execution_count": 8,
     "metadata": {},
     "output_type": "execute_result"
    }
   ],
   "source": [
    "merge_action.shape"
   ]
  },
  {
   "cell_type": "code",
   "execution_count": 9,
   "metadata": {},
   "outputs": [],
   "source": [
    "model = XGBClassifier()\n",
    "model.load_model('/work/users/d/d/ddinh/aaco/models/adni_different_masking.model')"
   ]
  },
  {
   "cell_type": "code",
   "execution_count": 10,
   "metadata": {},
   "outputs": [
    {
     "data": {
      "text/plain": [
       "<matplotlib.collections.PathCollection at 0x7f5fcb338bd0>"
      ]
     },
     "execution_count": 10,
     "metadata": {},
     "output_type": "execute_result"
    },
    {
     "data": {
      "image/png": "[encoded data removed]",
      "text/plain": [
       "<Figure size 640x480 with 1 Axes>"
      ]
     },
     "metadata": {},
     "output_type": "display_data"
    }
   ],
   "source": [
    "plt.scatter(range(len(model.feature_importances_)), model.feature_importances_)"
   ]
  },
  {
   "cell_type": "code",
   "execution_count": 11,
   "metadata": {},
   "outputs": [
    {
     "data": {
      "text/plain": [
       "(201, 48)"
      ]
     },
     "execution_count": 11,
     "metadata": {},
     "output_type": "execute_result"
    }
   ],
   "source": [
    "x_val.shape"
   ]
  },
  {
   "cell_type": "code",
   "execution_count": 12,
   "metadata": {},
   "outputs": [],
   "source": [
    "num_ts = y.shape[1]\n",
    "y_pred = np.zeros(y_val.shape)\n",
    "for ts in range(num_ts):\n",
    "    x_input = np.zeros(x_val.shape)\n",
    "    mask_input = np.zeros(merge_action.shape)\n",
    "    \n",
    "    for k in range(4):\n",
    "        x_input[:,k*ts:(k+1)*ts] = np.copy(x_val[:,k*ts:(k+1)*ts])\n",
    "        mask_input[:,k*ts:(k+1)*ts] = np.copy(merge_action[:,k*ts:(k+1)*ts])\n",
    "    \n",
    "    x_input = torch.Tensor(x_input)\n",
    "    mask_input = torch.Tensor(mask_input)\n",
    "    pred = model.predict_proba(torch.cat([x_input * mask_input, mask_input], -1))\n",
    "    y_pred[:,ts,:] = pred"
   ]
  },
  {
   "cell_type": "code",
   "execution_count": 13,
   "metadata": {},
   "outputs": [
    {
     "data": {
      "text/plain": [
       "(201, 12, 3)"
      ]
     },
     "execution_count": 13,
     "metadata": {},
     "output_type": "execute_result"
    }
   ],
   "source": [
    "y_pred.shape"
   ]
  },
  {
   "cell_type": "code",
   "execution_count": 14,
   "metadata": {},
   "outputs": [
    {
     "data": {
      "text/plain": [
       "False"
      ]
     },
     "execution_count": 14,
     "metadata": {},
     "output_type": "execute_result"
    }
   ],
   "source": [
    "np.all(np.array([1,0,0]) == 0)"
   ]
  },
  {
   "cell_type": "code",
   "execution_count": 16,
   "metadata": {},
   "outputs": [
    {
     "name": "stdout",
     "output_type": "stream",
     "text": [
      "ROC AUC: 0.7112524\n",
      "PR AUC: 0.478665\n"
     ]
    }
   ],
   "source": [
    "def evaluate_metrics(y_pred, y_true):\n",
    "    auroc_metric = tf.keras.metrics.AUC(curve='ROC')\n",
    "    auprc_metric = tf.keras.metrics.AUC(curve='PR')\n",
    "    \n",
    "    all_preds = []\n",
    "    all_labels = []\n",
    "\n",
    "    for i in range(y_pred.shape[0]):\n",
    "        for t in range(y_pred.shape[1]):  \n",
    "            if not np.all(y_true[i, t] == 0):  \n",
    "                all_preds.append(y_pred[i, t])\n",
    "                all_labels.append(y_true[i, t])\n",
    "            \n",
    "    \n",
    "    all_preds = np.array(all_preds)\n",
    "    all_labels = np.array(all_labels)\n",
    "    \n",
    "    auroc_metric.update_state(all_labels, all_preds)\n",
    "    auprc_metric.update_state(all_labels, all_preds)\n",
    "    roc_auc = auroc_metric.result().numpy()\n",
    "    pr_auc = auprc_metric.result().numpy()\n",
    "    \n",
    "    return roc_auc, pr_auc\n",
    "\n",
    "roc, pr = evaluate_metrics(y_pred, y_val)\n",
    "print('ROC AUC:', roc)\n",
    "print('PR AUC:', pr)"
   ]
  },
  {
   "cell_type": "code",
   "execution_count": 12,
   "metadata": {},
   "outputs": [],
   "source": [
    "PET = 1\n",
    "MRI = 0.5\n",
    "\n",
    "merge_action_reshaped = np.copy(merge_action).reshape(-1, num_ts, 4)"
   ]
  },
  {
   "cell_type": "code",
   "execution_count": 13,
   "metadata": {},
   "outputs": [
    {
     "data": {
      "text/plain": [
       "(200, 12, 4)"
      ]
     },
     "execution_count": 13,
     "metadata": {},
     "output_type": "execute_result"
    }
   ],
   "source": [
    "merge_action_reshaped.shape"
   ]
  },
  {
   "cell_type": "code",
   "execution_count": 14,
   "metadata": {},
   "outputs": [
    {
     "data": {
      "text/plain": [
       "(200, 12)"
      ]
     },
     "execution_count": 14,
     "metadata": {},
     "output_type": "execute_result"
    }
   ],
   "source": [
    "merge_action_reshaped[:, :, 0].shape"
   ]
  },
  {
   "cell_type": "code",
   "execution_count": 29,
   "metadata": {},
   "outputs": [
    {
     "data": {
      "text/plain": [
       "5.4275"
      ]
     },
     "execution_count": 29,
     "metadata": {},
     "output_type": "execute_result"
    }
   ],
   "source": [
    "total = 0\n",
    "count = 0\n",
    "for j in range(merge_action.shape[0]):\n",
    "    total_temp = 0\n",
    "    \n",
    "    for i in range(4):\n",
    "        if i <= 1:\n",
    "            total_temp += np.sum(merge_action[j, i*num_ts:(i+1)*num_ts]) * PET\n",
    "        else:\n",
    "            total_temp += np.sum(merge_action[j, i*num_ts:(i+1)*num_ts]) * MRI\n",
    "            \n",
    "    total += total_temp \n",
    "total / merge_action_reshaped.shape[0] "
   ]
  },
  {
   "cell_type": "code",
   "execution_count": 17,
   "metadata": {},
   "outputs": [
    {
     "data": {
      "text/plain": [
       "5.95771144278607"
      ]
     },
     "execution_count": 17,
     "metadata": {},
     "output_type": "execute_result"
    }
   ],
   "source": [
    "5.95771144278607\n"
   ]
  },
  {
   "cell_type": "code",
   "execution_count": null,
   "metadata": {},
   "outputs": [],
   "source": [
    "0.666"
   ]
  }
 ],
 "metadata": {
  "kernelspec": {
   "display_name": ".venv",
   "language": "python",
   "name": "python3"
  },
  "language_info": {
   "codemirror_mode": {
    "name": "ipython",
    "version": 3
   },
   "file_extension": ".py",
   "mimetype": "text/x-python",
   "name": "python",
   "nbconvert_exporter": "python",
   "pygments_lexer": "ipython3",
   "version": "3.11.9"
  }
 },
 "nbformat": 4,
 "nbformat_minor": 2
}
